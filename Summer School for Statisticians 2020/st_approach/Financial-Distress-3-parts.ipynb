{
 "cells": [
  {
   "cell_type": "code",
   "execution_count": 160,
   "metadata": {
    "ExecuteTime": {
     "end_time": "2020-07-23T13:07:52.808950Z",
     "start_time": "2020-07-23T13:07:52.797133Z"
    }
   },
   "outputs": [],
   "source": [
    "import numpy as np\n",
    "import pandas as pd\n",
    "import matplotlib.pyplot as plt\n",
    "import seaborn as sns\n",
    "from sklearn.model_selection import train_test_split\n",
    "from sklearn.linear_model import LogisticRegression\n",
    "from sklearn.metrics import accuracy_score\n",
    "from sklearn.metrics import f1_score\n",
    "from sklearn.metrics import confusion_matrix\n",
    "from sklearn.metrics import roc_curve, auc\n",
    "from sklearn.ensemble import RandomForestClassifier\n",
    "from sklearn.datasets import make_classification\n",
    "from sklearn.svm import SVC\n",
    "from sklearn.ensemble import AdaBoostClassifier\n",
    "from sklearn.metrics import precision_recall_fscore_support as score\n",
    "from sklearn.model_selection import GridSearchCV\n",
    "from sklearn.metrics import classification_report\n",
    "from sklearn.metrics import mean_squared_error\n",
    "from sklearn.metrics import roc_auc_score\n",
    "from sklearn.metrics import roc_curve\n",
    "from sklearn.multiclass import OneVsRestClassifier\n",
    "from sklearn.preprocessing import label_binarize\n",
    "import xgboost as xgb\n",
    "from statsmodels.stats.outliers_influence import variance_inflation_factor\n",
    "from itertools import cycle\n",
    "plt.style.use('ggplot')"
   ]
  },
  {
   "cell_type": "code",
   "execution_count": 161,
   "metadata": {
    "ExecuteTime": {
     "end_time": "2020-07-23T13:07:53.092767Z",
     "start_time": "2020-07-23T13:07:52.811338Z"
    }
   },
   "outputs": [],
   "source": [
    "data = pd.read_csv('data/Financial Distress.csv')"
   ]
  },
  {
   "cell_type": "code",
   "execution_count": 162,
   "metadata": {
    "ExecuteTime": {
     "end_time": "2020-07-23T13:07:53.108348Z",
     "start_time": "2020-07-23T13:07:53.095667Z"
    }
   },
   "outputs": [
    {
     "data": {
      "text/plain": [
       "(3672, 86)"
      ]
     },
     "execution_count": 162,
     "metadata": {},
     "output_type": "execute_result"
    }
   ],
   "source": [
    "data.shape"
   ]
  },
  {
   "cell_type": "code",
   "execution_count": 163,
   "metadata": {
    "ExecuteTime": {
     "end_time": "2020-07-23T13:07:53.228782Z",
     "start_time": "2020-07-23T13:07:53.113935Z"
    }
   },
   "outputs": [
    {
     "data": {
      "text/plain": [
       "Index(['Company', 'Time', 'Financial Distress', 'x1', 'x2', 'x3', 'x4', 'x5',\n",
       "       'x6', 'x7', 'x8', 'x9', 'x10', 'x11', 'x12', 'x13', 'x14', 'x15', 'x16',\n",
       "       'x17', 'x18', 'x19', 'x20', 'x21', 'x22', 'x23', 'x24', 'x25', 'x26',\n",
       "       'x27', 'x28', 'x29', 'x30', 'x31', 'x32', 'x33', 'x34', 'x35', 'x36',\n",
       "       'x37', 'x38', 'x39', 'x40', 'x41', 'x42', 'x43', 'x44', 'x45', 'x46',\n",
       "       'x47', 'x48', 'x49', 'x50', 'x51', 'x52', 'x53', 'x54', 'x55', 'x56',\n",
       "       'x57', 'x58', 'x59', 'x60', 'x61', 'x62', 'x63', 'x64', 'x65', 'x66',\n",
       "       'x67', 'x68', 'x69', 'x70', 'x71', 'x72', 'x73', 'x74', 'x75', 'x76',\n",
       "       'x77', 'x78', 'x79', 'x80', 'x81', 'x82', 'x83'],\n",
       "      dtype='object')"
      ]
     },
     "execution_count": 163,
     "metadata": {},
     "output_type": "execute_result"
    }
   ],
   "source": [
    "data.columns"
   ]
  },
  {
   "cell_type": "code",
   "execution_count": 164,
   "metadata": {
    "ExecuteTime": {
     "end_time": "2020-07-23T13:07:53.415049Z",
     "start_time": "2020-07-23T13:07:53.230667Z"
    }
   },
   "outputs": [
    {
     "name": "stdout",
     "output_type": "stream",
     "text": [
      "<class 'pandas.core.frame.DataFrame'>\n",
      "RangeIndex: 3672 entries, 0 to 3671\n",
      "Data columns (total 86 columns):\n",
      " #   Column              Non-Null Count  Dtype  \n",
      "---  ------              --------------  -----  \n",
      " 0   Company             3672 non-null   int64  \n",
      " 1   Time                3672 non-null   int64  \n",
      " 2   Financial Distress  3672 non-null   float64\n",
      " 3   x1                  3672 non-null   float64\n",
      " 4   x2                  3672 non-null   float64\n",
      " 5   x3                  3672 non-null   float64\n",
      " 6   x4                  3672 non-null   float64\n",
      " 7   x5                  3672 non-null   float64\n",
      " 8   x6                  3672 non-null   float64\n",
      " 9   x7                  3672 non-null   float64\n",
      " 10  x8                  3672 non-null   float64\n",
      " 11  x9                  3672 non-null   float64\n",
      " 12  x10                 3672 non-null   float64\n",
      " 13  x11                 3672 non-null   float64\n",
      " 14  x12                 3672 non-null   float64\n",
      " 15  x13                 3672 non-null   float64\n",
      " 16  x14                 3672 non-null   float64\n",
      " 17  x15                 3672 non-null   float64\n",
      " 18  x16                 3672 non-null   float64\n",
      " 19  x17                 3672 non-null   float64\n",
      " 20  x18                 3672 non-null   float64\n",
      " 21  x19                 3672 non-null   float64\n",
      " 22  x20                 3672 non-null   float64\n",
      " 23  x21                 3672 non-null   float64\n",
      " 24  x22                 3672 non-null   float64\n",
      " 25  x23                 3672 non-null   float64\n",
      " 26  x24                 3672 non-null   float64\n",
      " 27  x25                 3672 non-null   float64\n",
      " 28  x26                 3672 non-null   float64\n",
      " 29  x27                 3672 non-null   float64\n",
      " 30  x28                 3672 non-null   float64\n",
      " 31  x29                 3672 non-null   float64\n",
      " 32  x30                 3672 non-null   float64\n",
      " 33  x31                 3672 non-null   float64\n",
      " 34  x32                 3672 non-null   float64\n",
      " 35  x33                 3672 non-null   float64\n",
      " 36  x34                 3672 non-null   float64\n",
      " 37  x35                 3672 non-null   float64\n",
      " 38  x36                 3672 non-null   float64\n",
      " 39  x37                 3672 non-null   float64\n",
      " 40  x38                 3672 non-null   float64\n",
      " 41  x39                 3672 non-null   float64\n",
      " 42  x40                 3672 non-null   float64\n",
      " 43  x41                 3672 non-null   float64\n",
      " 44  x42                 3672 non-null   float64\n",
      " 45  x43                 3672 non-null   float64\n",
      " 46  x44                 3672 non-null   float64\n",
      " 47  x45                 3672 non-null   float64\n",
      " 48  x46                 3672 non-null   float64\n",
      " 49  x47                 3672 non-null   float64\n",
      " 50  x48                 3672 non-null   float64\n",
      " 51  x49                 3672 non-null   float64\n",
      " 52  x50                 3672 non-null   float64\n",
      " 53  x51                 3672 non-null   float64\n",
      " 54  x52                 3672 non-null   float64\n",
      " 55  x53                 3672 non-null   float64\n",
      " 56  x54                 3672 non-null   float64\n",
      " 57  x55                 3672 non-null   float64\n",
      " 58  x56                 3672 non-null   float64\n",
      " 59  x57                 3672 non-null   float64\n",
      " 60  x58                 3672 non-null   float64\n",
      " 61  x59                 3672 non-null   float64\n",
      " 62  x60                 3672 non-null   float64\n",
      " 63  x61                 3672 non-null   float64\n",
      " 64  x62                 3672 non-null   float64\n",
      " 65  x63                 3672 non-null   float64\n",
      " 66  x64                 3672 non-null   float64\n",
      " 67  x65                 3672 non-null   float64\n",
      " 68  x66                 3672 non-null   float64\n",
      " 69  x67                 3672 non-null   float64\n",
      " 70  x68                 3672 non-null   float64\n",
      " 71  x69                 3672 non-null   float64\n",
      " 72  x70                 3672 non-null   float64\n",
      " 73  x71                 3672 non-null   float64\n",
      " 74  x72                 3672 non-null   float64\n",
      " 75  x73                 3672 non-null   float64\n",
      " 76  x74                 3672 non-null   float64\n",
      " 77  x75                 3672 non-null   float64\n",
      " 78  x76                 3672 non-null   float64\n",
      " 79  x77                 3672 non-null   float64\n",
      " 80  x78                 3672 non-null   float64\n",
      " 81  x79                 3672 non-null   float64\n",
      " 82  x80                 3672 non-null   int64  \n",
      " 83  x81                 3672 non-null   float64\n",
      " 84  x82                 3672 non-null   int64  \n",
      " 85  x83                 3672 non-null   int64  \n",
      "dtypes: float64(81), int64(5)\n",
      "memory usage: 2.4 MB\n"
     ]
    }
   ],
   "source": [
    "data.info()"
   ]
  },
  {
   "cell_type": "code",
   "execution_count": 165,
   "metadata": {
    "ExecuteTime": {
     "end_time": "2020-07-23T13:07:53.496781Z",
     "start_time": "2020-07-23T13:07:53.417379Z"
    }
   },
   "outputs": [
    {
     "data": {
      "text/plain": [
       "array([  1,   2,   3,   4,   5,   6,   7,   8,   9,  10,  11,  12,  13,\n",
       "        14,  15,  16,  17,  18,  19,  20,  21,  22,  23,  24,  25,  26,\n",
       "        27,  28,  29,  30,  31,  32,  33,  34,  35,  36,  37,  38,  39,\n",
       "        40,  41,  42,  43,  44,  45,  46,  47,  48,  49,  50,  51,  52,\n",
       "        53,  54,  55,  56,  57,  58,  59,  60,  61,  62,  63,  64,  65,\n",
       "        66,  67,  68,  69,  70,  71,  72,  73,  74,  75,  76,  77,  78,\n",
       "        79,  80,  81,  82,  83,  84,  85,  86,  87,  88,  89,  90,  91,\n",
       "        92,  93,  94,  95,  96,  97,  98,  99, 100, 101, 102, 103, 104,\n",
       "       105, 106, 107, 108, 109, 110, 111, 112, 113, 114, 115, 116, 117,\n",
       "       118, 119, 120, 121, 122, 123, 124, 125, 126, 127, 128, 129, 130,\n",
       "       131, 132, 133, 134, 135, 136, 137, 138, 139, 140, 141, 142, 143,\n",
       "       144, 145, 146, 147, 148, 149, 150, 151, 152, 153, 154, 155, 156,\n",
       "       157, 158, 159, 160, 161, 162, 163, 164, 165, 166, 167, 168, 169,\n",
       "       170, 171, 172, 173, 174, 175, 176, 177, 178, 179, 180, 181, 182,\n",
       "       183, 184, 185, 186, 187, 188, 189, 190, 191, 192, 193, 194, 195,\n",
       "       196, 197, 198, 199, 200, 201, 202, 203, 204, 205, 206, 207, 208,\n",
       "       209, 210, 211, 212, 213, 214, 215, 216, 217, 218, 219, 220, 221,\n",
       "       222, 223, 224, 225, 226, 227, 228, 229, 230, 231, 232, 233, 234,\n",
       "       235, 236, 237, 238, 239, 240, 241, 242, 243, 244, 245, 246, 247,\n",
       "       248, 249, 250, 251, 252, 253, 254, 255, 256, 257, 258, 259, 260,\n",
       "       261, 262, 263, 264, 265, 266, 267, 268, 269, 270, 271, 272, 273,\n",
       "       274, 275, 276, 277, 278, 279, 280, 281, 282, 283, 284, 285, 286,\n",
       "       287, 288, 289, 290, 291, 292, 293, 294, 295, 296, 297, 298, 299,\n",
       "       300, 301, 302, 303, 304, 305, 306, 307, 308, 309, 310, 311, 312,\n",
       "       313, 314, 315, 316, 317, 318, 319, 320, 321, 322, 323, 324, 325,\n",
       "       326, 327, 328, 329, 330, 331, 332, 333, 334, 335, 336, 337, 338,\n",
       "       339, 340, 341, 342, 343, 344, 345, 346, 347, 348, 349, 350, 351,\n",
       "       352, 353, 354, 355, 356, 357, 358, 359, 360, 361, 362, 363, 364,\n",
       "       365, 366, 367, 368, 369, 370, 371, 372, 373, 374, 375, 376, 377,\n",
       "       378, 379, 380, 381, 382, 383, 384, 385, 386, 387, 388, 389, 390,\n",
       "       391, 392, 393, 394, 395, 396, 397, 398, 399, 400, 401, 402, 403,\n",
       "       404, 405, 406, 407, 408, 409, 410, 411, 412, 413, 414, 415, 416,\n",
       "       417, 418, 419, 420, 421, 422])"
      ]
     },
     "execution_count": 165,
     "metadata": {},
     "output_type": "execute_result"
    }
   ],
   "source": [
    "data['Company'].unique()"
   ]
  },
  {
   "cell_type": "code",
   "execution_count": 166,
   "metadata": {
    "ExecuteTime": {
     "end_time": "2020-07-23T13:07:53.626147Z",
     "start_time": "2020-07-23T13:07:53.507913Z"
    }
   },
   "outputs": [
    {
     "data": {
      "text/plain": [
       "array([ 1,  2,  3,  4,  5,  6,  7,  8,  9, 10, 11, 12, 13, 14])"
      ]
     },
     "execution_count": 166,
     "metadata": {},
     "output_type": "execute_result"
    }
   ],
   "source": [
    "data['Time'].unique()"
   ]
  },
  {
   "cell_type": "code",
   "execution_count": 167,
   "metadata": {
    "ExecuteTime": {
     "end_time": "2020-07-23T13:07:54.112829Z",
     "start_time": "2020-07-23T13:07:53.645281Z"
    }
   },
   "outputs": [
    {
     "data": {
      "image/png": "[encoded data removed]",
      "text/plain": [
       "<Figure size 1440x720 with 1 Axes>"
      ]
     },
     "metadata": {},
     "output_type": "display_data"
    }
   ],
   "source": [
    "plt.figure(figsize=(20,10))\n",
    "plt.hist(data['Financial Distress'])\n",
    "plt.title('Financial Distress Histogram')\n",
    "plt.xlabel('Values')\n",
    "plt.ylabel('Frequency')\n",
    "plt.grid(True)\n",
    "plt.show()"
   ]
  },
  {
   "cell_type": "code",
   "execution_count": 168,
   "metadata": {
    "ExecuteTime": {
     "end_time": "2020-07-23T13:07:54.122268Z",
     "start_time": "2020-07-23T13:07:54.114748Z"
    }
   },
   "outputs": [
    {
     "data": {
      "text/plain": [
       "count    3672.000000\n",
       "mean        1.040257\n",
       "std         2.652227\n",
       "min        -8.631700\n",
       "25%         0.172275\n",
       "50%         0.583805\n",
       "75%         1.351750\n",
       "max       128.400000\n",
       "Name: Financial Distress, dtype: float64"
      ]
     },
     "execution_count": 168,
     "metadata": {},
     "output_type": "execute_result"
    }
   ],
   "source": [
    "data['Financial Distress'].describe()"
   ]
  },
  {
   "cell_type": "code",
   "execution_count": 169,
   "metadata": {
    "ExecuteTime": {
     "end_time": "2020-07-23T13:07:54.638784Z",
     "start_time": "2020-07-23T13:07:54.123890Z"
    }
   },
   "outputs": [
    {
     "data": {
      "text/plain": [
       "<matplotlib.axes._subplots.AxesSubplot at 0x7ffb12fd0dd8>"
      ]
     },
     "execution_count": 169,
     "metadata": {},
     "output_type": "execute_result"
    },
    {
     "data": {
      "image/png": "[encoded data removed]",
      "text/plain": [
       "<Figure size 1440x720 with 1 Axes>"
      ]
     },
     "metadata": {},
     "output_type": "display_data"
    }
   ],
   "source": [
    "plt.figure(figsize=(20,10))\n",
    "sns.boxplot(x=data['Financial Distress'])"
   ]
  },
  {
   "cell_type": "code",
   "execution_count": 170,
   "metadata": {
    "ExecuteTime": {
     "end_time": "2020-07-23T13:07:54.647806Z",
     "start_time": "2020-07-23T13:07:54.642501Z"
    }
   },
   "outputs": [
    {
     "data": {
      "text/plain": [
       "128.4"
      ]
     },
     "execution_count": 170,
     "metadata": {},
     "output_type": "execute_result"
    }
   ],
   "source": [
    "max(data['Financial Distress'])"
   ]
  },
  {
   "cell_type": "code",
   "execution_count": 171,
   "metadata": {
    "ExecuteTime": {
     "end_time": "2020-07-23T13:07:55.080689Z",
     "start_time": "2020-07-23T13:07:54.649840Z"
    }
   },
   "outputs": [
    {
     "data": {
      "image/png": "[encoded data removed]",
      "text/plain": [
       "<Figure size 1224x576 with 1 Axes>"
      ]
     },
     "metadata": {},
     "output_type": "display_data"
    }
   ],
   "source": [
    "plt.figure(figsize=(17,8))\n",
    "plt.hist(data[data['Financial Distress'] < 100]['Financial Distress'])\n",
    "plt.title('Financial Distress Histogram')\n",
    "plt.xlabel('Values')\n",
    "plt.ylabel('Frequency')\n",
    "plt.grid(True)\n",
    "plt.show()"
   ]
  },
  {
   "cell_type": "code",
   "execution_count": 172,
   "metadata": {
    "ExecuteTime": {
     "end_time": "2020-07-23T13:07:55.095612Z",
     "start_time": "2020-07-23T13:07:55.082377Z"
    }
   },
   "outputs": [
    {
     "data": {
      "text/plain": [
       "(1.021, 128.4]     1224\n",
       "(0.295, 1.021]     1224\n",
       "(-8.633, 0.295]    1224\n",
       "Name: Financial Distress, dtype: int64"
      ]
     },
     "execution_count": 172,
     "metadata": {},
     "output_type": "execute_result"
    }
   ],
   "source": [
    "pd.qcut(data['Financial Distress'], 3).value_counts()"
   ]
  },
  {
   "cell_type": "code",
   "execution_count": 173,
   "metadata": {
    "ExecuteTime": {
     "end_time": "2020-07-23T13:07:55.206964Z",
     "start_time": "2020-07-23T13:07:55.097500Z"
    }
   },
   "outputs": [],
   "source": [
    "data['status'] = np.where(data['Financial Distress'] < 0.295,0,np.where(data['Financial Distress'] < 1.021, 1,2))"
   ]
  },
  {
   "cell_type": "code",
   "execution_count": 174,
   "metadata": {
    "ExecuteTime": {
     "end_time": "2020-07-23T13:07:55.354004Z",
     "start_time": "2020-07-23T13:07:55.209703Z"
    }
   },
   "outputs": [
    {
     "data": {
      "text/plain": [
       "2    1225\n",
       "1    1224\n",
       "0    1223\n",
       "Name: status, dtype: int64"
      ]
     },
     "execution_count": 174,
     "metadata": {},
     "output_type": "execute_result"
    }
   ],
   "source": [
    "data['status'].value_counts()"
   ]
  },
  {
   "cell_type": "code",
   "execution_count": 175,
   "metadata": {
    "ExecuteTime": {
     "end_time": "2020-07-23T13:07:55.536534Z",
     "start_time": "2020-07-23T13:07:55.358071Z"
    }
   },
   "outputs": [],
   "source": [
    "data_one_period = data.drop_duplicates(subset=['Company'], keep='last')"
   ]
  },
  {
   "cell_type": "code",
   "execution_count": 176,
   "metadata": {
    "ExecuteTime": {
     "end_time": "2020-07-23T13:07:55.659504Z",
     "start_time": "2020-07-23T13:07:55.541697Z"
    }
   },
   "outputs": [
    {
     "data": {
      "text/plain": [
       "(422, 87)"
      ]
     },
     "execution_count": 176,
     "metadata": {},
     "output_type": "execute_result"
    }
   ],
   "source": [
    "data_one_period.shape"
   ]
  },
  {
   "cell_type": "code",
   "execution_count": 177,
   "metadata": {
    "ExecuteTime": {
     "end_time": "2020-07-23T13:07:55.774361Z",
     "start_time": "2020-07-23T13:07:55.669090Z"
    }
   },
   "outputs": [
    {
     "data": {
      "text/plain": [
       "0    231\n",
       "1    102\n",
       "2     89\n",
       "Name: status, dtype: int64"
      ]
     },
     "execution_count": 177,
     "metadata": {},
     "output_type": "execute_result"
    }
   ],
   "source": [
    "data_one_period['status'].value_counts()"
   ]
  },
  {
   "cell_type": "code",
   "execution_count": 178,
   "metadata": {
    "ExecuteTime": {
     "end_time": "2020-07-23T13:07:55.996917Z",
     "start_time": "2020-07-23T13:07:55.777845Z"
    }
   },
   "outputs": [
    {
     "data": {
      "text/html": [
       "<div>\n",
       "<style scoped>\n",
       "    .dataframe tbody tr th:only-of-type {\n",
       "        vertical-align: middle;\n",
       "    }\n",
       "\n",
       "    .dataframe tbody tr th {\n",
       "        vertical-align: top;\n",
       "    }\n",
       "\n",
       "    .dataframe thead th {\n",
       "        text-align: right;\n",
       "    }\n",
       "</style>\n",
       "<table border=\"1\" class=\"dataframe\">\n",
       "  <thead>\n",
       "    <tr style=\"text-align: right;\">\n",
       "      <th></th>\n",
       "      <th>Company</th>\n",
       "      <th>Time</th>\n",
       "      <th>Financial Distress</th>\n",
       "      <th>x1</th>\n",
       "      <th>x2</th>\n",
       "      <th>x3</th>\n",
       "      <th>x4</th>\n",
       "      <th>x5</th>\n",
       "      <th>x6</th>\n",
       "      <th>x7</th>\n",
       "      <th>...</th>\n",
       "      <th>x75</th>\n",
       "      <th>x76</th>\n",
       "      <th>x77</th>\n",
       "      <th>x78</th>\n",
       "      <th>x79</th>\n",
       "      <th>x80</th>\n",
       "      <th>x81</th>\n",
       "      <th>x82</th>\n",
       "      <th>x83</th>\n",
       "      <th>status</th>\n",
       "    </tr>\n",
       "  </thead>\n",
       "  <tbody>\n",
       "    <tr>\n",
       "      <th>3</th>\n",
       "      <td>1</td>\n",
       "      <td>4</td>\n",
       "      <td>-0.56657</td>\n",
       "      <td>1.1131</td>\n",
       "      <td>-0.015229</td>\n",
       "      <td>0.85888</td>\n",
       "      <td>0.80974</td>\n",
       "      <td>0.076037</td>\n",
       "      <td>0.091033</td>\n",
       "      <td>0.67546</td>\n",
       "      <td>...</td>\n",
       "      <td>39.80</td>\n",
       "      <td>38.377</td>\n",
       "      <td>17.167</td>\n",
       "      <td>16.0</td>\n",
       "      <td>5.6</td>\n",
       "      <td>22</td>\n",
       "      <td>-0.32539</td>\n",
       "      <td>33</td>\n",
       "      <td>52</td>\n",
       "      <td>0</td>\n",
       "    </tr>\n",
       "    <tr>\n",
       "      <th>17</th>\n",
       "      <td>2</td>\n",
       "      <td>14</td>\n",
       "      <td>2.23200</td>\n",
       "      <td>2.2263</td>\n",
       "      <td>0.325880</td>\n",
       "      <td>0.40651</td>\n",
       "      <td>0.90804</td>\n",
       "      <td>0.455340</td>\n",
       "      <td>0.493550</td>\n",
       "      <td>1.65280</td>\n",
       "      <td>...</td>\n",
       "      <td>227.50</td>\n",
       "      <td>214.500</td>\n",
       "      <td>21.000</td>\n",
       "      <td>20.5</td>\n",
       "      <td>8.6</td>\n",
       "      <td>29</td>\n",
       "      <td>2.65980</td>\n",
       "      <td>20</td>\n",
       "      <td>40</td>\n",
       "      <td>2</td>\n",
       "    </tr>\n",
       "    <tr>\n",
       "      <th>18</th>\n",
       "      <td>3</td>\n",
       "      <td>1</td>\n",
       "      <td>-1.65990</td>\n",
       "      <td>0.8744</td>\n",
       "      <td>-0.034676</td>\n",
       "      <td>0.79350</td>\n",
       "      <td>0.60952</td>\n",
       "      <td>-0.002632</td>\n",
       "      <td>-0.086847</td>\n",
       "      <td>0.50609</td>\n",
       "      <td>...</td>\n",
       "      <td>27.07</td>\n",
       "      <td>26.102</td>\n",
       "      <td>16.000</td>\n",
       "      <td>16.0</td>\n",
       "      <td>0.2</td>\n",
       "      <td>25</td>\n",
       "      <td>-0.30317</td>\n",
       "      <td>8</td>\n",
       "      <td>37</td>\n",
       "      <td>0</td>\n",
       "    </tr>\n",
       "    <tr>\n",
       "      <th>32</th>\n",
       "      <td>4</td>\n",
       "      <td>14</td>\n",
       "      <td>1.27700</td>\n",
       "      <td>3.1096</td>\n",
       "      <td>0.133630</td>\n",
       "      <td>0.21635</td>\n",
       "      <td>0.70654</td>\n",
       "      <td>0.173030</td>\n",
       "      <td>0.446080</td>\n",
       "      <td>1.25870</td>\n",
       "      <td>...</td>\n",
       "      <td>227.50</td>\n",
       "      <td>214.500</td>\n",
       "      <td>21.000</td>\n",
       "      <td>20.5</td>\n",
       "      <td>8.6</td>\n",
       "      <td>12</td>\n",
       "      <td>1.09640</td>\n",
       "      <td>41</td>\n",
       "      <td>57</td>\n",
       "      <td>2</td>\n",
       "    </tr>\n",
       "    <tr>\n",
       "      <th>46</th>\n",
       "      <td>5</td>\n",
       "      <td>14</td>\n",
       "      <td>1.63780</td>\n",
       "      <td>1.2121</td>\n",
       "      <td>0.084192</td>\n",
       "      <td>0.70161</td>\n",
       "      <td>0.33803</td>\n",
       "      <td>0.130500</td>\n",
       "      <td>0.144520</td>\n",
       "      <td>0.93530</td>\n",
       "      <td>...</td>\n",
       "      <td>227.50</td>\n",
       "      <td>214.500</td>\n",
       "      <td>21.000</td>\n",
       "      <td>20.5</td>\n",
       "      <td>8.6</td>\n",
       "      <td>23</td>\n",
       "      <td>1.53660</td>\n",
       "      <td>25</td>\n",
       "      <td>50</td>\n",
       "      <td>2</td>\n",
       "    </tr>\n",
       "  </tbody>\n",
       "</table>\n",
       "<p>5 rows × 87 columns</p>\n",
       "</div>"
      ],
      "text/plain": [
       "    Company  Time  Financial Distress      x1        x2       x3       x4  \\\n",
       "3         1     4            -0.56657  1.1131 -0.015229  0.85888  0.80974   \n",
       "17        2    14             2.23200  2.2263  0.325880  0.40651  0.90804   \n",
       "18        3     1            -1.65990  0.8744 -0.034676  0.79350  0.60952   \n",
       "32        4    14             1.27700  3.1096  0.133630  0.21635  0.70654   \n",
       "46        5    14             1.63780  1.2121  0.084192  0.70161  0.33803   \n",
       "\n",
       "          x5        x6       x7  ...     x75      x76     x77   x78  x79  x80  \\\n",
       "3   0.076037  0.091033  0.67546  ...   39.80   38.377  17.167  16.0  5.6   22   \n",
       "17  0.455340  0.493550  1.65280  ...  227.50  214.500  21.000  20.5  8.6   29   \n",
       "18 -0.002632 -0.086847  0.50609  ...   27.07   26.102  16.000  16.0  0.2   25   \n",
       "32  0.173030  0.446080  1.25870  ...  227.50  214.500  21.000  20.5  8.6   12   \n",
       "46  0.130500  0.144520  0.93530  ...  227.50  214.500  21.000  20.5  8.6   23   \n",
       "\n",
       "        x81  x82  x83  status  \n",
       "3  -0.32539   33   52       0  \n",
       "17  2.65980   20   40       2  \n",
       "18 -0.30317    8   37       0  \n",
       "32  1.09640   41   57       2  \n",
       "46  1.53660   25   50       2  \n",
       "\n",
       "[5 rows x 87 columns]"
      ]
     },
     "execution_count": 178,
     "metadata": {},
     "output_type": "execute_result"
    }
   ],
   "source": [
    "data_one_period.head()"
   ]
  },
  {
   "cell_type": "code",
   "execution_count": 179,
   "metadata": {
    "ExecuteTime": {
     "end_time": "2020-07-23T13:07:56.041036Z",
     "start_time": "2020-07-23T13:07:55.998950Z"
    }
   },
   "outputs": [],
   "source": [
    "data_final = data_one_period.drop(['Financial Distress', 'Company'], axis=1)"
   ]
  },
  {
   "cell_type": "code",
   "execution_count": 180,
   "metadata": {
    "ExecuteTime": {
     "end_time": "2020-07-23T13:07:56.242623Z",
     "start_time": "2020-07-23T13:07:56.044089Z"
    }
   },
   "outputs": [
    {
     "data": {
      "text/html": [
       "<div>\n",
       "<style scoped>\n",
       "    .dataframe tbody tr th:only-of-type {\n",
       "        vertical-align: middle;\n",
       "    }\n",
       "\n",
       "    .dataframe tbody tr th {\n",
       "        vertical-align: top;\n",
       "    }\n",
       "\n",
       "    .dataframe thead th {\n",
       "        text-align: right;\n",
       "    }\n",
       "</style>\n",
       "<table border=\"1\" class=\"dataframe\">\n",
       "  <thead>\n",
       "    <tr style=\"text-align: right;\">\n",
       "      <th></th>\n",
       "      <th>Time</th>\n",
       "      <th>x1</th>\n",
       "      <th>x2</th>\n",
       "      <th>x3</th>\n",
       "      <th>x4</th>\n",
       "      <th>x5</th>\n",
       "      <th>x6</th>\n",
       "      <th>x7</th>\n",
       "      <th>x8</th>\n",
       "      <th>x9</th>\n",
       "      <th>...</th>\n",
       "      <th>x75</th>\n",
       "      <th>x76</th>\n",
       "      <th>x77</th>\n",
       "      <th>x78</th>\n",
       "      <th>x79</th>\n",
       "      <th>x80</th>\n",
       "      <th>x81</th>\n",
       "      <th>x82</th>\n",
       "      <th>x83</th>\n",
       "      <th>status</th>\n",
       "    </tr>\n",
       "  </thead>\n",
       "  <tbody>\n",
       "    <tr>\n",
       "      <th>3</th>\n",
       "      <td>4</td>\n",
       "      <td>1.1131</td>\n",
       "      <td>-0.015229</td>\n",
       "      <td>0.85888</td>\n",
       "      <td>0.80974</td>\n",
       "      <td>0.076037</td>\n",
       "      <td>0.091033</td>\n",
       "      <td>0.67546</td>\n",
       "      <td>-0.018807</td>\n",
       "      <td>-0.10791</td>\n",
       "      <td>...</td>\n",
       "      <td>39.80</td>\n",
       "      <td>38.377</td>\n",
       "      <td>17.167</td>\n",
       "      <td>16.0</td>\n",
       "      <td>5.6</td>\n",
       "      <td>22</td>\n",
       "      <td>-0.32539</td>\n",
       "      <td>33</td>\n",
       "      <td>52</td>\n",
       "      <td>0</td>\n",
       "    </tr>\n",
       "    <tr>\n",
       "      <th>17</th>\n",
       "      <td>14</td>\n",
       "      <td>2.2263</td>\n",
       "      <td>0.325880</td>\n",
       "      <td>0.40651</td>\n",
       "      <td>0.90804</td>\n",
       "      <td>0.455340</td>\n",
       "      <td>0.493550</td>\n",
       "      <td>1.65280</td>\n",
       "      <td>0.358880</td>\n",
       "      <td>0.54909</td>\n",
       "      <td>...</td>\n",
       "      <td>227.50</td>\n",
       "      <td>214.500</td>\n",
       "      <td>21.000</td>\n",
       "      <td>20.5</td>\n",
       "      <td>8.6</td>\n",
       "      <td>29</td>\n",
       "      <td>2.65980</td>\n",
       "      <td>20</td>\n",
       "      <td>40</td>\n",
       "      <td>2</td>\n",
       "    </tr>\n",
       "    <tr>\n",
       "      <th>18</th>\n",
       "      <td>1</td>\n",
       "      <td>0.8744</td>\n",
       "      <td>-0.034676</td>\n",
       "      <td>0.79350</td>\n",
       "      <td>0.60952</td>\n",
       "      <td>-0.002632</td>\n",
       "      <td>-0.086847</td>\n",
       "      <td>0.50609</td>\n",
       "      <td>-0.056892</td>\n",
       "      <td>-0.16793</td>\n",
       "      <td>...</td>\n",
       "      <td>27.07</td>\n",
       "      <td>26.102</td>\n",
       "      <td>16.000</td>\n",
       "      <td>16.0</td>\n",
       "      <td>0.2</td>\n",
       "      <td>25</td>\n",
       "      <td>-0.30317</td>\n",
       "      <td>8</td>\n",
       "      <td>37</td>\n",
       "      <td>0</td>\n",
       "    </tr>\n",
       "    <tr>\n",
       "      <th>32</th>\n",
       "      <td>14</td>\n",
       "      <td>3.1096</td>\n",
       "      <td>0.133630</td>\n",
       "      <td>0.21635</td>\n",
       "      <td>0.70654</td>\n",
       "      <td>0.173030</td>\n",
       "      <td>0.446080</td>\n",
       "      <td>1.25870</td>\n",
       "      <td>0.189140</td>\n",
       "      <td>0.17053</td>\n",
       "      <td>...</td>\n",
       "      <td>227.50</td>\n",
       "      <td>214.500</td>\n",
       "      <td>21.000</td>\n",
       "      <td>20.5</td>\n",
       "      <td>8.6</td>\n",
       "      <td>12</td>\n",
       "      <td>1.09640</td>\n",
       "      <td>41</td>\n",
       "      <td>57</td>\n",
       "      <td>2</td>\n",
       "    </tr>\n",
       "    <tr>\n",
       "      <th>46</th>\n",
       "      <td>14</td>\n",
       "      <td>1.2121</td>\n",
       "      <td>0.084192</td>\n",
       "      <td>0.70161</td>\n",
       "      <td>0.33803</td>\n",
       "      <td>0.130500</td>\n",
       "      <td>0.144520</td>\n",
       "      <td>0.93530</td>\n",
       "      <td>0.249060</td>\n",
       "      <td>0.28215</td>\n",
       "      <td>...</td>\n",
       "      <td>227.50</td>\n",
       "      <td>214.500</td>\n",
       "      <td>21.000</td>\n",
       "      <td>20.5</td>\n",
       "      <td>8.6</td>\n",
       "      <td>23</td>\n",
       "      <td>1.53660</td>\n",
       "      <td>25</td>\n",
       "      <td>50</td>\n",
       "      <td>2</td>\n",
       "    </tr>\n",
       "  </tbody>\n",
       "</table>\n",
       "<p>5 rows × 85 columns</p>\n",
       "</div>"
      ],
      "text/plain": [
       "    Time      x1        x2       x3       x4        x5        x6       x7  \\\n",
       "3      4  1.1131 -0.015229  0.85888  0.80974  0.076037  0.091033  0.67546   \n",
       "17    14  2.2263  0.325880  0.40651  0.90804  0.455340  0.493550  1.65280   \n",
       "18     1  0.8744 -0.034676  0.79350  0.60952 -0.002632 -0.086847  0.50609   \n",
       "32    14  3.1096  0.133630  0.21635  0.70654  0.173030  0.446080  1.25870   \n",
       "46    14  1.2121  0.084192  0.70161  0.33803  0.130500  0.144520  0.93530   \n",
       "\n",
       "          x8       x9  ...     x75      x76     x77   x78  x79  x80      x81  \\\n",
       "3  -0.018807 -0.10791  ...   39.80   38.377  17.167  16.0  5.6   22 -0.32539   \n",
       "17  0.358880  0.54909  ...  227.50  214.500  21.000  20.5  8.6   29  2.65980   \n",
       "18 -0.056892 -0.16793  ...   27.07   26.102  16.000  16.0  0.2   25 -0.30317   \n",
       "32  0.189140  0.17053  ...  227.50  214.500  21.000  20.5  8.6   12  1.09640   \n",
       "46  0.249060  0.28215  ...  227.50  214.500  21.000  20.5  8.6   23  1.53660   \n",
       "\n",
       "    x82  x83  status  \n",
       "3    33   52       0  \n",
       "17   20   40       2  \n",
       "18    8   37       0  \n",
       "32   41   57       2  \n",
       "46   25   50       2  \n",
       "\n",
       "[5 rows x 85 columns]"
      ]
     },
     "execution_count": 180,
     "metadata": {},
     "output_type": "execute_result"
    }
   ],
   "source": [
    "data_final.head()"
   ]
  },
  {
   "cell_type": "code",
   "execution_count": 181,
   "metadata": {
    "ExecuteTime": {
     "end_time": "2020-07-23T13:07:56.293651Z",
     "start_time": "2020-07-23T13:07:56.247083Z"
    }
   },
   "outputs": [],
   "source": [
    "#plt.figure(figsize=(20,10))\n",
    "#plt.title('Correlation Matrix')\n",
    "#sns.heatmap(data_final.corr(), annot=True)\n",
    "#plt.show()"
   ]
  },
  {
   "cell_type": "code",
   "execution_count": 182,
   "metadata": {
    "ExecuteTime": {
     "end_time": "2020-07-23T13:07:56.486672Z",
     "start_time": "2020-07-23T13:07:56.304031Z"
    }
   },
   "outputs": [
    {
     "data": {
      "text/plain": [
       "x28       0.002354\n",
       "x35       0.016076\n",
       "x39       0.020654\n",
       "x82       0.021716\n",
       "x20       0.039651\n",
       "            ...   \n",
       "x5        0.605355\n",
       "x81       0.609253\n",
       "x2        0.620442\n",
       "x10       0.739800\n",
       "status    1.000000\n",
       "Name: status, Length: 85, dtype: float64"
      ]
     },
     "execution_count": 182,
     "metadata": {},
     "output_type": "execute_result"
    }
   ],
   "source": [
    "abs(data_final.corr()['status']).sort_values(ascending=True)"
   ]
  },
  {
   "cell_type": "code",
   "execution_count": 183,
   "metadata": {
    "ExecuteTime": {
     "end_time": "2020-07-23T13:07:56.550281Z",
     "start_time": "2020-07-23T13:07:56.496136Z"
    }
   },
   "outputs": [],
   "source": [
    "variables = abs(data_final.corr()['status']).sort_values(ascending=True)"
   ]
  },
  {
   "cell_type": "code",
   "execution_count": 184,
   "metadata": {
    "ExecuteTime": {
     "end_time": "2020-07-23T13:07:56.687718Z",
     "start_time": "2020-07-23T13:07:56.553533Z"
    }
   },
   "outputs": [
    {
     "data": {
      "text/plain": [
       "83"
      ]
     },
     "execution_count": 184,
     "metadata": {},
     "output_type": "execute_result"
    }
   ],
   "source": [
    "v1 = variables[0.1 < variables.values]\n",
    "v2 = variables[variables.values < 0.7]\n",
    "len(v2.index)"
   ]
  },
  {
   "cell_type": "code",
   "execution_count": 185,
   "metadata": {
    "ExecuteTime": {
     "end_time": "2020-07-23T13:07:56.818407Z",
     "start_time": "2020-07-23T13:07:56.693253Z"
    }
   },
   "outputs": [
    {
     "data": {
      "text/plain": [
       "Index(['x28', 'x35', 'x39', 'x82', 'x20', 'x31', 'x27', 'x38', 'x8', 'x32',\n",
       "       'x19', 'x59', 'x16', 'x52', 'x47', 'x83', 'x57', 'x42', 'x17', 'x22',\n",
       "       'x34', 'x40', 'x43', 'x11', 'x15', 'x7', 'x58', 'x21', 'x1', 'x74',\n",
       "       'x44', 'x18', 'x12', 'x65', 'x56', 'x80', 'x4', 'x41', 'x66', 'x33',\n",
       "       'x45', 'x30', 'x72', 'x29', 'x73', 'x71', 'x54', 'x37', 'x24', 'x67',\n",
       "       'x55', 'x69', 'x6', 'x49', 'x14', 'x70', 'x3', 'x13', 'x60', 'x26',\n",
       "       'x51', 'x63', 'x61', 'x23', 'x50', 'x79', 'x46', 'x62', 'x64', 'Time',\n",
       "       'x77', 'x9', 'x78', 'x48', 'x36', 'x68', 'x76', 'x75', 'x53', 'x25',\n",
       "       'x5', 'x81', 'x2'],\n",
       "      dtype='object')"
      ]
     },
     "execution_count": 185,
     "metadata": {},
     "output_type": "execute_result"
    }
   ],
   "source": [
    "ind = v2.index\n",
    "v2.index"
   ]
  },
  {
   "cell_type": "code",
   "execution_count": 214,
   "metadata": {
    "ExecuteTime": {
     "end_time": "2020-07-23T13:46:59.908255Z",
     "start_time": "2020-07-23T13:46:59.901530Z"
    }
   },
   "outputs": [],
   "source": [
    "y = data_final['status']\n",
    "X = data_final[ind]"
   ]
  },
  {
   "cell_type": "code",
   "execution_count": 187,
   "metadata": {
    "ExecuteTime": {
     "end_time": "2020-07-23T13:07:57.079325Z",
     "start_time": "2020-07-23T13:07:56.940957Z"
    }
   },
   "outputs": [
    {
     "data": {
      "text/plain": [
       "(422, 83)"
      ]
     },
     "execution_count": 187,
     "metadata": {},
     "output_type": "execute_result"
    }
   ],
   "source": [
    "X.shape"
   ]
  },
  {
   "cell_type": "code",
   "execution_count": 188,
   "metadata": {
    "ExecuteTime": {
     "end_time": "2020-07-23T13:07:57.197330Z",
     "start_time": "2020-07-23T13:07:57.086471Z"
    }
   },
   "outputs": [],
   "source": [
    "def calc_vif(X):\n",
    "    \n",
    "    vif = pd.DataFrame()\n",
    "    vif[\"variables\"] = X.columns\n",
    "    vif[\"VIF\"] = [variance_inflation_factor(X.values, i) for i in range(X.shape[1])]\n",
    "\n",
    "    return(vif)"
   ]
  },
  {
   "cell_type": "code",
   "execution_count": 189,
   "metadata": {
    "ExecuteTime": {
     "end_time": "2020-07-23T13:07:57.871738Z",
     "start_time": "2020-07-23T13:07:57.202549Z"
    }
   },
   "outputs": [
    {
     "data": {
      "text/plain": [
       "(83, 2)"
      ]
     },
     "execution_count": 189,
     "metadata": {},
     "output_type": "execute_result"
    }
   ],
   "source": [
    "vif_df = calc_vif(X)\n",
    "vif_df.shape"
   ]
  },
  {
   "cell_type": "code",
   "execution_count": 190,
   "metadata": {
    "ExecuteTime": {
     "end_time": "2020-07-23T13:07:57.879995Z",
     "start_time": "2020-07-23T13:07:57.873890Z"
    }
   },
   "outputs": [
    {
     "data": {
      "text/plain": [
       "(24, 2)"
      ]
     },
     "execution_count": 190,
     "metadata": {},
     "output_type": "execute_result"
    }
   ],
   "source": [
    "vif_df_without_corr = vif_df[vif_df['VIF'] < 10]\n",
    "vif_df_without_corr.shape"
   ]
  },
  {
   "cell_type": "code",
   "execution_count": 191,
   "metadata": {
    "ExecuteTime": {
     "end_time": "2020-07-23T13:07:58.019406Z",
     "start_time": "2020-07-23T13:07:57.881507Z"
    }
   },
   "outputs": [
    {
     "data": {
      "text/plain": [
       "0     x28\n",
       "3     x82\n",
       "5     x31\n",
       "6     x27\n",
       "14    x47\n",
       "15    x83\n",
       "16    x57\n",
       "17    x42\n",
       "19    x22\n",
       "21    x40\n",
       "24    x15\n",
       "26    x58\n",
       "31    x18\n",
       "32    x12\n",
       "35    x80\n",
       "37    x41\n",
       "40    x45\n",
       "46    x54\n",
       "50    x55\n",
       "58    x60\n",
       "66    x46\n",
       "71     x9\n",
       "73    x48\n",
       "78    x53\n",
       "Name: variables, dtype: object"
      ]
     },
     "execution_count": 191,
     "metadata": {},
     "output_type": "execute_result"
    }
   ],
   "source": [
    "vif_df_without_corr['variables']"
   ]
  },
  {
   "cell_type": "code",
   "execution_count": 192,
   "metadata": {
    "ExecuteTime": {
     "end_time": "2020-07-23T13:07:58.141055Z",
     "start_time": "2020-07-23T13:07:58.025235Z"
    }
   },
   "outputs": [],
   "source": [
    "X = X[vif_df_without_corr['variables']]"
   ]
  },
  {
   "cell_type": "code",
   "execution_count": 216,
   "metadata": {
    "ExecuteTime": {
     "end_time": "2020-07-23T13:47:14.275892Z",
     "start_time": "2020-07-23T13:47:14.236939Z"
    }
   },
   "outputs": [],
   "source": [
    "X_train, X_test, y_train, y_test = train_test_split(\n",
    "     X, y, test_size=0.3, random_state=42)"
   ]
  },
  {
   "cell_type": "code",
   "execution_count": 220,
   "metadata": {
    "ExecuteTime": {
     "end_time": "2020-07-23T13:47:50.529548Z",
     "start_time": "2020-07-23T13:47:50.520356Z"
    }
   },
   "outputs": [],
   "source": [
    "def evaluate(model, train_features, train_labels, test_features, test_labels):\n",
    "    train_acc = model.score(train_features, train_labels)\n",
    "    predictions = model.predict(test_features)\n",
    "    rmse = np.sqrt(mean_squared_error(test_labels, predictions))\n",
    "    accuracy = accuracy_score(test_labels, predictions)\n",
    "    class_report = classification_report(y_test, predictions)\n",
    "    print('Model Performance')\n",
    "    print('Training data performance {:0.2f}%'.format(train_acc))\n",
    "    print('Root Mean Squired Error: {:0.2f}'.format(rmse))\n",
    "    print('Test Accuracy: {:0.2f}%.'.format(accuracy))\n",
    "    print(class_report)"
   ]
  },
  {
   "cell_type": "code",
   "execution_count": 221,
   "metadata": {
    "ExecuteTime": {
     "end_time": "2020-07-23T13:47:52.409498Z",
     "start_time": "2020-07-23T13:47:52.302942Z"
    }
   },
   "outputs": [
    {
     "name": "stdout",
     "output_type": "stream",
     "text": [
      "Model Performance\n",
      "Training data performance 0.62%\n",
      "Root Mean Squired Error: 1.03\n",
      "Test Accuracy: 0.50%.\n",
      "              precision    recall  f1-score   support\n",
      "\n",
      "           0       0.50      0.80      0.62        60\n",
      "           1       0.40      0.16      0.23        37\n",
      "           2       0.56      0.30      0.39        30\n",
      "\n",
      "    accuracy                           0.50       127\n",
      "   macro avg       0.49      0.42      0.41       127\n",
      "weighted avg       0.49      0.50      0.45       127\n",
      "\n"
     ]
    },
    {
     "name": "stderr",
     "output_type": "stream",
     "text": [
      "/home/stefan/anaconda3/lib/python3.7/site-packages/sklearn/linear_model/_logistic.py:939: ConvergenceWarning: lbfgs failed to converge (status=1):\n",
      "STOP: TOTAL NO. of ITERATIONS REACHED LIMIT.\n",
      "\n",
      "Increase the number of iterations (max_iter) or scale the data as shown in:\n",
      "    https://scikit-learn.org/stable/modules/preprocessing.html.\n",
      "Please also refer to the documentation for alternative solver options:\n",
      "    https://scikit-learn.org/stable/modules/linear_model.html#logistic-regression\n",
      "  extra_warning_msg=_LOGISTIC_SOLVER_CONVERGENCE_MSG)\n"
     ]
    }
   ],
   "source": [
    "clf_base = LogisticRegression(random_state=42).fit(X_train, y_train)\n",
    "evaluate(clf_base,  X_train, y_train, X_test, y_test)"
   ]
  },
  {
   "cell_type": "code",
   "execution_count": 222,
   "metadata": {
    "ExecuteTime": {
     "end_time": "2020-07-23T13:47:54.087253Z",
     "start_time": "2020-07-23T13:47:53.822819Z"
    }
   },
   "outputs": [
    {
     "name": "stdout",
     "output_type": "stream",
     "text": [
      "Model Performance\n",
      "Training data performance 0.91%\n",
      "Root Mean Squired Error: 0.54\n",
      "Test Accuracy: 0.76%.\n",
      "              precision    recall  f1-score   support\n",
      "\n",
      "           0       0.81      0.92      0.86        60\n",
      "           1       0.64      0.49      0.55        37\n",
      "           2       0.74      0.77      0.75        30\n",
      "\n",
      "    accuracy                           0.76       127\n",
      "   macro avg       0.73      0.72      0.72       127\n",
      "weighted avg       0.74      0.76      0.75       127\n",
      "\n"
     ]
    }
   ],
   "source": [
    "rf_base = RandomForestClassifier(max_depth=4, random_state=42).fit(X_train, y_train)\n",
    "evaluate(rf_base,  X_train, y_train, X_test, y_test)"
   ]
  },
  {
   "cell_type": "code",
   "execution_count": 95,
   "metadata": {
    "ExecuteTime": {
     "end_time": "2020-07-23T12:26:58.109940Z",
     "start_time": "2020-07-23T12:26:58.029819Z"
    }
   },
   "outputs": [
    {
     "name": "stdout",
     "output_type": "stream",
     "text": [
      "Model Performance\n",
      "Training data performance 0.77%\n",
      "Mean Absolute Error: 0.61\n",
      "Test Accuracy: 0.74%.\n",
      "              precision    recall  f1-score   support\n",
      "\n",
      "           0       0.77      0.95      0.85        60\n",
      "           1       0.71      0.41      0.52        37\n",
      "           2       0.69      0.73      0.71        30\n",
      "\n",
      "    accuracy                           0.74       127\n",
      "   macro avg       0.72      0.70      0.69       127\n",
      "weighted avg       0.73      0.74      0.72       127\n",
      "\n"
     ]
    }
   ],
   "source": [
    "ab_base = AdaBoostClassifier(n_estimators=10, random_state=0).fit(X_train, y_train)\n",
    "evaluate(ab_base,  X_train, y_train, X_test, y_test)"
   ]
  },
  {
   "cell_type": "code",
   "execution_count": 96,
   "metadata": {
    "ExecuteTime": {
     "end_time": "2020-07-23T12:26:58.345810Z",
     "start_time": "2020-07-23T12:26:58.116878Z"
    }
   },
   "outputs": [
    {
     "name": "stdout",
     "output_type": "stream",
     "text": [
      "Model Performance\n",
      "Training data performance 0.58%\n",
      "Mean Absolute Error: 1.11\n",
      "Test Accuracy: 0.47%.\n",
      "              precision    recall  f1-score   support\n",
      "\n",
      "           0       0.47      1.00      0.64        60\n",
      "           1       0.00      0.00      0.00        37\n",
      "           2       0.00      0.00      0.00        30\n",
      "\n",
      "    accuracy                           0.47       127\n",
      "   macro avg       0.16      0.33      0.21       127\n",
      "weighted avg       0.22      0.47      0.30       127\n",
      "\n"
     ]
    },
    {
     "name": "stderr",
     "output_type": "stream",
     "text": [
      "/home/stefan/anaconda3/lib/python3.7/site-packages/sklearn/metrics/_classification.py:1268: UndefinedMetricWarning: Precision and F-score are ill-defined and being set to 0.0 in labels with no predicted samples. Use `zero_division` parameter to control this behavior.\n",
      "  _warn_prf(average, modifier, msg_start, len(result))\n",
      "/home/stefan/anaconda3/lib/python3.7/site-packages/sklearn/metrics/_classification.py:1268: UndefinedMetricWarning: Precision and F-score are ill-defined and being set to 0.0 in labels with no predicted samples. Use `zero_division` parameter to control this behavior.\n",
      "  _warn_prf(average, modifier, msg_start, len(result))\n",
      "/home/stefan/anaconda3/lib/python3.7/site-packages/sklearn/metrics/_classification.py:1268: UndefinedMetricWarning: Precision and F-score are ill-defined and being set to 0.0 in labels with no predicted samples. Use `zero_division` parameter to control this behavior.\n",
      "  _warn_prf(average, modifier, msg_start, len(result))\n"
     ]
    }
   ],
   "source": [
    "sv_base_rbf = SVC(kernel='rbf').fit(X_train, y_train)\n",
    "evaluate(sv_base_rbf,  X_train, y_train, X_test, y_test)"
   ]
  },
  {
   "cell_type": "code",
   "execution_count": 97,
   "metadata": {
    "ExecuteTime": {
     "end_time": "2020-07-23T12:26:58.404701Z",
     "start_time": "2020-07-23T12:26:58.352511Z"
    }
   },
   "outputs": [
    {
     "name": "stdout",
     "output_type": "stream",
     "text": [
      "Model Performance\n",
      "Training data performance 0.58%\n",
      "Mean Absolute Error: 1.11\n",
      "Test Accuracy: 0.47%.\n",
      "              precision    recall  f1-score   support\n",
      "\n",
      "           0       0.47      1.00      0.64        60\n",
      "           1       0.00      0.00      0.00        37\n",
      "           2       0.00      0.00      0.00        30\n",
      "\n",
      "    accuracy                           0.47       127\n",
      "   macro avg       0.16      0.33      0.21       127\n",
      "weighted avg       0.22      0.47      0.30       127\n",
      "\n"
     ]
    },
    {
     "name": "stderr",
     "output_type": "stream",
     "text": [
      "/home/stefan/anaconda3/lib/python3.7/site-packages/sklearn/metrics/_classification.py:1268: UndefinedMetricWarning: Precision and F-score are ill-defined and being set to 0.0 in labels with no predicted samples. Use `zero_division` parameter to control this behavior.\n",
      "  _warn_prf(average, modifier, msg_start, len(result))\n",
      "/home/stefan/anaconda3/lib/python3.7/site-packages/sklearn/metrics/_classification.py:1268: UndefinedMetricWarning: Precision and F-score are ill-defined and being set to 0.0 in labels with no predicted samples. Use `zero_division` parameter to control this behavior.\n",
      "  _warn_prf(average, modifier, msg_start, len(result))\n",
      "/home/stefan/anaconda3/lib/python3.7/site-packages/sklearn/metrics/_classification.py:1268: UndefinedMetricWarning: Precision and F-score are ill-defined and being set to 0.0 in labels with no predicted samples. Use `zero_division` parameter to control this behavior.\n",
      "  _warn_prf(average, modifier, msg_start, len(result))\n"
     ]
    }
   ],
   "source": [
    "sv_base_sig = SVC(kernel='sigmoid').fit(X_train, y_train)\n",
    "evaluate(sv_base_sig,  X_train, y_train, X_test, y_test)"
   ]
  },
  {
   "cell_type": "code",
   "execution_count": 98,
   "metadata": {
    "ExecuteTime": {
     "end_time": "2020-07-23T12:38:18.501077Z",
     "start_time": "2020-07-23T12:26:58.408171Z"
    }
   },
   "outputs": [
    {
     "name": "stdout",
     "output_type": "stream",
     "text": [
      "Model Performance\n",
      "Training data performance 0.69%\n",
      "Mean Absolute Error: 0.90\n",
      "Test Accuracy: 0.58%.\n",
      "              precision    recall  f1-score   support\n",
      "\n",
      "           0       0.61      0.87      0.72        60\n",
      "           1       0.52      0.32      0.40        37\n",
      "           2       0.53      0.33      0.41        30\n",
      "\n",
      "    accuracy                           0.58       127\n",
      "   macro avg       0.55      0.51      0.51       127\n",
      "weighted avg       0.57      0.58      0.55       127\n",
      "\n"
     ]
    }
   ],
   "source": [
    "#sv_base_lin = SVC(kernel='linear').fit(X_train, y_train)\n",
    "#evaluate(sv_base_lin,  X_train, y_train, X_test, y_test)"
   ]
  },
  {
   "cell_type": "code",
   "execution_count": 99,
   "metadata": {
    "ExecuteTime": {
     "end_time": "2020-07-23T12:38:18.671307Z",
     "start_time": "2020-07-23T12:38:18.502841Z"
    }
   },
   "outputs": [
    {
     "name": "stdout",
     "output_type": "stream",
     "text": [
      "Model Performance\n",
      "Training data performance 1.00%\n",
      "Mean Absolute Error: 0.63\n",
      "Test Accuracy: 0.74%.\n",
      "              precision    recall  f1-score   support\n",
      "\n",
      "           0       0.74      0.95      0.83        60\n",
      "           1       0.75      0.41      0.53        37\n",
      "           2       0.73      0.73      0.73        30\n",
      "\n",
      "    accuracy                           0.74       127\n",
      "   macro avg       0.74      0.70      0.70       127\n",
      "weighted avg       0.74      0.74      0.72       127\n",
      "\n"
     ]
    }
   ],
   "source": [
    "xgb_model_base = xgb.XGBClassifier(objective=\"multi:softprob\", random_state=42).fit(X_train, y_train)\n",
    "evaluate(xgb_model_base, X_train, y_train, X_test, y_test)"
   ]
  },
  {
   "cell_type": "code",
   "execution_count": 100,
   "metadata": {
    "ExecuteTime": {
     "end_time": "2020-07-23T12:38:18.677112Z",
     "start_time": "2020-07-23T12:38:18.675018Z"
    }
   },
   "outputs": [],
   "source": []
  },
  {
   "cell_type": "markdown",
   "metadata": {},
   "source": [
    "from sklearn.preprocessing import MinMaxScaler, StandardScaler, FunctionTransformer from sklearn.preprocessing import PolynomialFeatures from sklearn.pipeline import Pipeline # Feature union use case pipe_classifier = Pipeline([('scaler', StandardScaler()), ('model', RandomForestClassifier(max_depth=4, random_state=0)) ]) # rf = RandomForestClassifier(max_depth=4, random_state=0).fit(X_train, y_train) pipe_classifier pipe_classifier.fit(X_train, y_train) y_pred = pipe_classifier.predict(X_test) \n",
    "ето ви това малко парче код, което сега писахме "
   ]
  }
 ],
 "metadata": {
  "kernelspec": {
   "display_name": "Python 3",
   "language": "python",
   "name": "python3"
  },
  "language_info": {
   "codemirror_mode": {
    "name": "ipython",
    "version": 3
   },
   "file_extension": ".py",
   "mimetype": "text/x-python",
   "name": "python",
   "nbconvert_exporter": "python",
   "pygments_lexer": "ipython3",
   "version": "3.7.3"
  },
  "toc": {
   "base_numbering": 1,
   "nav_menu": {},
   "number_sections": true,
   "sideBar": true,
   "skip_h1_title": false,
   "title_cell": "Table of Contents",
   "title_sidebar": "Contents",
   "toc_cell": false,
   "toc_position": {},
   "toc_section_display": true,
   "toc_window_display": false
  },
  "varInspector": {
   "cols": {
    "lenName": 16,
    "lenType": 16,
    "lenVar": 40
   },
   "kernels_config": {
    "python": {
     "delete_cmd_postfix": "",
     "delete_cmd_prefix": "del ",
     "library": "var_list.py",
     "varRefreshCmd": "print(var_dic_list())"
    },
    "r": {
     "delete_cmd_postfix": ") ",
     "delete_cmd_prefix": "rm(",
     "library": "var_list.r",
     "varRefreshCmd": "cat(var_dic_list()) "
    }
   },
   "types_to_exclude": [
    "module",
    "function",
    "builtin_function_or_method",
    "instance",
    "_Feature"
   ],
   "window_display": false
  }
 },
 "nbformat": 4,
 "nbformat_minor": 2
}
