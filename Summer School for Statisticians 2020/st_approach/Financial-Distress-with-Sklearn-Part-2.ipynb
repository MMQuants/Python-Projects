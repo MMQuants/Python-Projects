{
 "cells": [
  {
   "cell_type": "markdown",
   "metadata": {},
   "source": [
    "##  Libraries Used"
   ]
  },
  {
   "cell_type": "code",
   "execution_count": 263,
   "metadata": {
    "ExecuteTime": {
     "end_time": "2020-07-25T13:30:37.686926Z",
     "start_time": "2020-07-25T13:30:37.667382Z"
    }
   },
   "outputs": [],
   "source": [
    "import numpy as np\n",
    "import pandas as pd\n",
    "import matplotlib.pyplot as plt\n",
    "import seaborn as sns\n",
    "from sklearn.model_selection import train_test_split\n",
    "from sklearn.preprocessing import MinMaxScaler\n",
    "from sklearn.preprocessing import PolynomialFeatures\n",
    "from sklearn.pipeline import Pipeline\n",
    "from sklearn.linear_model import LogisticRegression\n",
    "from sklearn.metrics import accuracy_score\n",
    "from sklearn.metrics import f1_score\n",
    "from sklearn.metrics import confusion_matrix\n",
    "from sklearn.metrics import roc_curve, auc\n",
    "from sklearn.ensemble import RandomForestClassifier\n",
    "from sklearn.datasets import make_classification\n",
    "from sklearn.svm import SVC\n",
    "from sklearn.ensemble import AdaBoostClassifier\n",
    "from sklearn.metrics import precision_recall_fscore_support as score\n",
    "from sklearn.model_selection import RandomizedSearchCV\n",
    "from sklearn.metrics import classification_report\n",
    "from sklearn.metrics import mean_squared_error\n",
    "from sklearn.metrics import roc_auc_score\n",
    "from sklearn.metrics import roc_curve\n",
    "from sklearn.multiclass import OneVsRestClassifier\n",
    "from sklearn.preprocessing import label_binarize\n",
    "from lightgbm import LGBMClassifier\n",
    "import xgboost as xgb\n",
    "from statsmodels.stats.outliers_influence import variance_inflation_factor\n",
    "from itertools import cycle"
   ]
  },
  {
   "cell_type": "markdown",
   "metadata": {},
   "source": [
    "## Read the data\n",
    "We are using the financial distress data of companies. This is part of a Kaggle dataset which can be viewed in the following link: https://www.kaggle.com/shebrahimi/financial-distress"
   ]
  },
  {
   "cell_type": "code",
   "execution_count": 161,
   "metadata": {
    "ExecuteTime": {
     "end_time": "2020-07-25T12:25:03.901330Z",
     "start_time": "2020-07-25T12:25:03.587890Z"
    }
   },
   "outputs": [],
   "source": [
    "data = pd.read_csv('data/Financial Distress.csv')"
   ]
  },
  {
   "cell_type": "code",
   "execution_count": 162,
   "metadata": {
    "ExecuteTime": {
     "end_time": "2020-07-25T12:25:03.908725Z",
     "start_time": "2020-07-25T12:25:03.903911Z"
    }
   },
   "outputs": [
    {
     "data": {
      "text/plain": [
       "(3672, 86)"
      ]
     },
     "execution_count": 162,
     "metadata": {},
     "output_type": "execute_result"
    }
   ],
   "source": [
    "data.shape"
   ]
  },
  {
   "cell_type": "markdown",
   "metadata": {},
   "source": [
    "There are 3672 rows and 86 columns in the dataset. The names of the columns can be viewed below.Unfortunately most of the columns are not named with their descriptive names. The contain variable of financial and not financial nature. This will hider our analysis without using business logic."
   ]
  },
  {
   "cell_type": "code",
   "execution_count": 163,
   "metadata": {
    "ExecuteTime": {
     "end_time": "2020-07-25T12:25:04.022731Z",
     "start_time": "2020-07-25T12:25:03.912269Z"
    }
   },
   "outputs": [
    {
     "data": {
      "text/plain": [
       "Index(['Company', 'Time', 'Financial Distress', 'x1', 'x2', 'x3', 'x4', 'x5',\n",
       "       'x6', 'x7', 'x8', 'x9', 'x10', 'x11', 'x12', 'x13', 'x14', 'x15', 'x16',\n",
       "       'x17', 'x18', 'x19', 'x20', 'x21', 'x22', 'x23', 'x24', 'x25', 'x26',\n",
       "       'x27', 'x28', 'x29', 'x30', 'x31', 'x32', 'x33', 'x34', 'x35', 'x36',\n",
       "       'x37', 'x38', 'x39', 'x40', 'x41', 'x42', 'x43', 'x44', 'x45', 'x46',\n",
       "       'x47', 'x48', 'x49', 'x50', 'x51', 'x52', 'x53', 'x54', 'x55', 'x56',\n",
       "       'x57', 'x58', 'x59', 'x60', 'x61', 'x62', 'x63', 'x64', 'x65', 'x66',\n",
       "       'x67', 'x68', 'x69', 'x70', 'x71', 'x72', 'x73', 'x74', 'x75', 'x76',\n",
       "       'x77', 'x78', 'x79', 'x80', 'x81', 'x82', 'x83'],\n",
       "      dtype='object')"
      ]
     },
     "execution_count": 163,
     "metadata": {},
     "output_type": "execute_result"
    }
   ],
   "source": [
    "data.columns"
   ]
  },
  {
   "cell_type": "code",
   "execution_count": 164,
   "metadata": {
    "ExecuteTime": {
     "end_time": "2020-07-25T12:25:04.202334Z",
     "start_time": "2020-07-25T12:25:04.028603Z"
    }
   },
   "outputs": [
    {
     "name": "stdout",
     "output_type": "stream",
     "text": [
      "<class 'pandas.core.frame.DataFrame'>\n",
      "RangeIndex: 3672 entries, 0 to 3671\n",
      "Data columns (total 86 columns):\n",
      " #   Column              Non-Null Count  Dtype  \n",
      "---  ------              --------------  -----  \n",
      " 0   Company             3672 non-null   int64  \n",
      " 1   Time                3672 non-null   int64  \n",
      " 2   Financial Distress  3672 non-null   float64\n",
      " 3   x1                  3672 non-null   float64\n",
      " 4   x2                  3672 non-null   float64\n",
      " 5   x3                  3672 non-null   float64\n",
      " 6   x4                  3672 non-null   float64\n",
      " 7   x5                  3672 non-null   float64\n",
      " 8   x6                  3672 non-null   float64\n",
      " 9   x7                  3672 non-null   float64\n",
      " 10  x8                  3672 non-null   float64\n",
      " 11  x9                  3672 non-null   float64\n",
      " 12  x10                 3672 non-null   float64\n",
      " 13  x11                 3672 non-null   float64\n",
      " 14  x12                 3672 non-null   float64\n",
      " 15  x13                 3672 non-null   float64\n",
      " 16  x14                 3672 non-null   float64\n",
      " 17  x15                 3672 non-null   float64\n",
      " 18  x16                 3672 non-null   float64\n",
      " 19  x17                 3672 non-null   float64\n",
      " 20  x18                 3672 non-null   float64\n",
      " 21  x19                 3672 non-null   float64\n",
      " 22  x20                 3672 non-null   float64\n",
      " 23  x21                 3672 non-null   float64\n",
      " 24  x22                 3672 non-null   float64\n",
      " 25  x23                 3672 non-null   float64\n",
      " 26  x24                 3672 non-null   float64\n",
      " 27  x25                 3672 non-null   float64\n",
      " 28  x26                 3672 non-null   float64\n",
      " 29  x27                 3672 non-null   float64\n",
      " 30  x28                 3672 non-null   float64\n",
      " 31  x29                 3672 non-null   float64\n",
      " 32  x30                 3672 non-null   float64\n",
      " 33  x31                 3672 non-null   float64\n",
      " 34  x32                 3672 non-null   float64\n",
      " 35  x33                 3672 non-null   float64\n",
      " 36  x34                 3672 non-null   float64\n",
      " 37  x35                 3672 non-null   float64\n",
      " 38  x36                 3672 non-null   float64\n",
      " 39  x37                 3672 non-null   float64\n",
      " 40  x38                 3672 non-null   float64\n",
      " 41  x39                 3672 non-null   float64\n",
      " 42  x40                 3672 non-null   float64\n",
      " 43  x41                 3672 non-null   float64\n",
      " 44  x42                 3672 non-null   float64\n",
      " 45  x43                 3672 non-null   float64\n",
      " 46  x44                 3672 non-null   float64\n",
      " 47  x45                 3672 non-null   float64\n",
      " 48  x46                 3672 non-null   float64\n",
      " 49  x47                 3672 non-null   float64\n",
      " 50  x48                 3672 non-null   float64\n",
      " 51  x49                 3672 non-null   float64\n",
      " 52  x50                 3672 non-null   float64\n",
      " 53  x51                 3672 non-null   float64\n",
      " 54  x52                 3672 non-null   float64\n",
      " 55  x53                 3672 non-null   float64\n",
      " 56  x54                 3672 non-null   float64\n",
      " 57  x55                 3672 non-null   float64\n",
      " 58  x56                 3672 non-null   float64\n",
      " 59  x57                 3672 non-null   float64\n",
      " 60  x58                 3672 non-null   float64\n",
      " 61  x59                 3672 non-null   float64\n",
      " 62  x60                 3672 non-null   float64\n",
      " 63  x61                 3672 non-null   float64\n",
      " 64  x62                 3672 non-null   float64\n",
      " 65  x63                 3672 non-null   float64\n",
      " 66  x64                 3672 non-null   float64\n",
      " 67  x65                 3672 non-null   float64\n",
      " 68  x66                 3672 non-null   float64\n",
      " 69  x67                 3672 non-null   float64\n",
      " 70  x68                 3672 non-null   float64\n",
      " 71  x69                 3672 non-null   float64\n",
      " 72  x70                 3672 non-null   float64\n",
      " 73  x71                 3672 non-null   float64\n",
      " 74  x72                 3672 non-null   float64\n",
      " 75  x73                 3672 non-null   float64\n",
      " 76  x74                 3672 non-null   float64\n",
      " 77  x75                 3672 non-null   float64\n",
      " 78  x76                 3672 non-null   float64\n",
      " 79  x77                 3672 non-null   float64\n",
      " 80  x78                 3672 non-null   float64\n",
      " 81  x79                 3672 non-null   float64\n",
      " 82  x80                 3672 non-null   int64  \n",
      " 83  x81                 3672 non-null   float64\n",
      " 84  x82                 3672 non-null   int64  \n",
      " 85  x83                 3672 non-null   int64  \n",
      "dtypes: float64(81), int64(5)\n",
      "memory usage: 2.4 MB\n"
     ]
    }
   ],
   "source": [
    "data.info()"
   ]
  },
  {
   "cell_type": "markdown",
   "metadata": {},
   "source": [
    "You can view the columns they are mostly float64, but there are some int64 which will mean different categories."
   ]
  },
  {
   "cell_type": "markdown",
   "metadata": {},
   "source": [
    "## EDA (Exploratory Data Analysis)\n",
    "We have a total of 422 companies in the dataset."
   ]
  },
  {
   "cell_type": "code",
   "execution_count": 165,
   "metadata": {
    "ExecuteTime": {
     "end_time": "2020-07-25T12:25:04.301190Z",
     "start_time": "2020-07-25T12:25:04.208283Z"
    }
   },
   "outputs": [
    {
     "data": {
      "text/plain": [
       "array([  1,   2,   3,   4,   5,   6,   7,   8,   9,  10,  11,  12,  13,\n",
       "        14,  15,  16,  17,  18,  19,  20,  21,  22,  23,  24,  25,  26,\n",
       "        27,  28,  29,  30,  31,  32,  33,  34,  35,  36,  37,  38,  39,\n",
       "        40,  41,  42,  43,  44,  45,  46,  47,  48,  49,  50,  51,  52,\n",
       "        53,  54,  55,  56,  57,  58,  59,  60,  61,  62,  63,  64,  65,\n",
       "        66,  67,  68,  69,  70,  71,  72,  73,  74,  75,  76,  77,  78,\n",
       "        79,  80,  81,  82,  83,  84,  85,  86,  87,  88,  89,  90,  91,\n",
       "        92,  93,  94,  95,  96,  97,  98,  99, 100, 101, 102, 103, 104,\n",
       "       105, 106, 107, 108, 109, 110, 111, 112, 113, 114, 115, 116, 117,\n",
       "       118, 119, 120, 121, 122, 123, 124, 125, 126, 127, 128, 129, 130,\n",
       "       131, 132, 133, 134, 135, 136, 137, 138, 139, 140, 141, 142, 143,\n",
       "       144, 145, 146, 147, 148, 149, 150, 151, 152, 153, 154, 155, 156,\n",
       "       157, 158, 159, 160, 161, 162, 163, 164, 165, 166, 167, 168, 169,\n",
       "       170, 171, 172, 173, 174, 175, 176, 177, 178, 179, 180, 181, 182,\n",
       "       183, 184, 185, 186, 187, 188, 189, 190, 191, 192, 193, 194, 195,\n",
       "       196, 197, 198, 199, 200, 201, 202, 203, 204, 205, 206, 207, 208,\n",
       "       209, 210, 211, 212, 213, 214, 215, 216, 217, 218, 219, 220, 221,\n",
       "       222, 223, 224, 225, 226, 227, 228, 229, 230, 231, 232, 233, 234,\n",
       "       235, 236, 237, 238, 239, 240, 241, 242, 243, 244, 245, 246, 247,\n",
       "       248, 249, 250, 251, 252, 253, 254, 255, 256, 257, 258, 259, 260,\n",
       "       261, 262, 263, 264, 265, 266, 267, 268, 269, 270, 271, 272, 273,\n",
       "       274, 275, 276, 277, 278, 279, 280, 281, 282, 283, 284, 285, 286,\n",
       "       287, 288, 289, 290, 291, 292, 293, 294, 295, 296, 297, 298, 299,\n",
       "       300, 301, 302, 303, 304, 305, 306, 307, 308, 309, 310, 311, 312,\n",
       "       313, 314, 315, 316, 317, 318, 319, 320, 321, 322, 323, 324, 325,\n",
       "       326, 327, 328, 329, 330, 331, 332, 333, 334, 335, 336, 337, 338,\n",
       "       339, 340, 341, 342, 343, 344, 345, 346, 347, 348, 349, 350, 351,\n",
       "       352, 353, 354, 355, 356, 357, 358, 359, 360, 361, 362, 363, 364,\n",
       "       365, 366, 367, 368, 369, 370, 371, 372, 373, 374, 375, 376, 377,\n",
       "       378, 379, 380, 381, 382, 383, 384, 385, 386, 387, 388, 389, 390,\n",
       "       391, 392, 393, 394, 395, 396, 397, 398, 399, 400, 401, 402, 403,\n",
       "       404, 405, 406, 407, 408, 409, 410, 411, 412, 413, 414, 415, 416,\n",
       "       417, 418, 419, 420, 421, 422])"
      ]
     },
     "execution_count": 165,
     "metadata": {},
     "output_type": "execute_result"
    }
   ],
   "source": [
    "data['Company'].unique()"
   ]
  },
  {
   "cell_type": "code",
   "execution_count": 166,
   "metadata": {
    "ExecuteTime": {
     "end_time": "2020-07-25T12:25:04.412515Z",
     "start_time": "2020-07-25T12:25:04.304567Z"
    }
   },
   "outputs": [
    {
     "data": {
      "text/plain": [
       "array([ 1,  2,  3,  4,  5,  6,  7,  8,  9, 10, 11, 12, 13, 14])"
      ]
     },
     "execution_count": 166,
     "metadata": {},
     "output_type": "execute_result"
    }
   ],
   "source": [
    "data['Time'].unique()"
   ]
  },
  {
   "cell_type": "markdown",
   "metadata": {},
   "source": [
    "There are 14 periods in total, although not all companies are present till the end. Below we can view the histogram of the Financial Distress Variable. There is clearly an outlier."
   ]
  },
  {
   "cell_type": "code",
   "execution_count": 167,
   "metadata": {
    "ExecuteTime": {
     "end_time": "2020-07-25T12:25:05.372010Z",
     "start_time": "2020-07-25T12:25:04.424984Z"
    }
   },
   "outputs": [
    {
     "data": {
      "image/png": "[encoded data removed]",
      "text/plain": [
       "<Figure size 1296x720 with 1 Axes>"
      ]
     },
     "metadata": {
      "needs_background": "light"
     },
     "output_type": "display_data"
    }
   ],
   "source": [
    "plt.figure(figsize=(18,10))\n",
    "sns.distplot(data['Financial Distress'],kde=False, rug=True, color = 'blue');\n",
    "plt.title('Financial Distress Histogram')\n",
    "plt.xlabel('Values')\n",
    "plt.ylabel('Frequency')\n",
    "plt.grid(True)\n",
    "plt.show()"
   ]
  },
  {
   "cell_type": "code",
   "execution_count": 168,
   "metadata": {
    "ExecuteTime": {
     "end_time": "2020-07-25T12:25:05.389053Z",
     "start_time": "2020-07-25T12:25:05.374707Z"
    }
   },
   "outputs": [
    {
     "data": {
      "text/plain": [
       "count    3672.000000\n",
       "mean        1.040257\n",
       "std         2.652227\n",
       "min        -8.631700\n",
       "25%         0.172275\n",
       "50%         0.583805\n",
       "75%         1.351750\n",
       "max       128.400000\n",
       "Name: Financial Distress, dtype: float64"
      ]
     },
     "execution_count": 168,
     "metadata": {},
     "output_type": "execute_result"
    }
   ],
   "source": [
    "data['Financial Distress'].describe()"
   ]
  },
  {
   "cell_type": "markdown",
   "metadata": {},
   "source": [
    "The descriptive statistics prove the point as well as the Boxplot. It is possible that the outlier is a flawed value."
   ]
  },
  {
   "cell_type": "code",
   "execution_count": 169,
   "metadata": {
    "ExecuteTime": {
     "end_time": "2020-07-25T12:25:05.946034Z",
     "start_time": "2020-07-25T12:25:05.390768Z"
    }
   },
   "outputs": [
    {
     "data": {
      "image/png": "[encoded data removed]",
      "text/plain": [
       "<Figure size 1296x720 with 1 Axes>"
      ]
     },
     "metadata": {
      "needs_background": "light"
     },
     "output_type": "display_data"
    }
   ],
   "source": [
    "plt.figure(figsize=(18,10))\n",
    "sns.boxplot(x=data['Financial Distress'], color = 'green')\n",
    "plt.title('Financial Distress Boxplot')\n",
    "plt.xlabel('Values')\n",
    "plt.grid(True)\n",
    "plt.show()"
   ]
  },
  {
   "cell_type": "code",
   "execution_count": 170,
   "metadata": {
    "ExecuteTime": {
     "end_time": "2020-07-25T12:25:05.964413Z",
     "start_time": "2020-07-25T12:25:05.952819Z"
    }
   },
   "outputs": [
    {
     "data": {
      "text/plain": [
       "128.4"
      ]
     },
     "execution_count": 170,
     "metadata": {},
     "output_type": "execute_result"
    }
   ],
   "source": [
    "max(data['Financial Distress'])"
   ]
  },
  {
   "cell_type": "code",
   "execution_count": 171,
   "metadata": {
    "ExecuteTime": {
     "end_time": "2020-07-25T12:25:06.669706Z",
     "start_time": "2020-07-25T12:25:05.966413Z"
    }
   },
   "outputs": [
    {
     "data": {
      "image/png": "[encoded data removed]",
      "text/plain": [
       "<Figure size 1224x576 with 1 Axes>"
      ]
     },
     "metadata": {
      "needs_background": "light"
     },
     "output_type": "display_data"
    }
   ],
   "source": [
    "plt.figure(figsize=(17,8))\n",
    "sns.distplot(data[data['Financial Distress'] < 100]['Financial Distress'], kde=False, rug=True, color = 'blue')\n",
    "plt.title('Financial Distress Histogram without outlier')\n",
    "plt.xlabel('Values')\n",
    "plt.ylabel('Frequency')\n",
    "plt.grid(True)\n",
    "plt.show()"
   ]
  },
  {
   "cell_type": "markdown",
   "metadata": {},
   "source": [
    "After removing the outlier value out distribution is more normal looking, although it is still slightly rightly skewed. We will cut the column into 3 categories with equal frequencies. We can get the precise border areas of the bins. "
   ]
  },
  {
   "cell_type": "code",
   "execution_count": 172,
   "metadata": {
    "ExecuteTime": {
     "end_time": "2020-07-25T12:25:06.699585Z",
     "start_time": "2020-07-25T12:25:06.671552Z"
    }
   },
   "outputs": [
    {
     "data": {
      "text/plain": [
       "(1.021, 128.4]     1224\n",
       "(0.295, 1.021]     1224\n",
       "(-8.633, 0.295]    1224\n",
       "Name: Financial Distress, dtype: int64"
      ]
     },
     "execution_count": 172,
     "metadata": {},
     "output_type": "execute_result"
    }
   ],
   "source": [
    "pd.qcut(data['Financial Distress'], 3).value_counts()"
   ]
  },
  {
   "cell_type": "code",
   "execution_count": 173,
   "metadata": {
    "ExecuteTime": {
     "end_time": "2020-07-25T12:25:06.797657Z",
     "start_time": "2020-07-25T12:25:06.701573Z"
    }
   },
   "outputs": [],
   "source": [
    "data['status'] = np.where(data['Financial Distress'] < 0.295,0,np.where(data['Financial Distress'] < 1.021, 1,2))"
   ]
  },
  {
   "cell_type": "code",
   "execution_count": 174,
   "metadata": {
    "ExecuteTime": {
     "end_time": "2020-07-25T12:25:06.923346Z",
     "start_time": "2020-07-25T12:25:06.799651Z"
    }
   },
   "outputs": [
    {
     "data": {
      "text/plain": [
       "2    1225\n",
       "1    1224\n",
       "0    1223\n",
       "Name: status, dtype: int64"
      ]
     },
     "execution_count": 174,
     "metadata": {},
     "output_type": "execute_result"
    }
   ],
   "source": [
    "data['status'].value_counts()"
   ]
  },
  {
   "cell_type": "markdown",
   "metadata": {},
   "source": [
    "## Selecting data for modeling\n",
    "This is a panel data so we have to deal with time. We select the last period of every company that we will use for modeling. Another holdout dataset for testing will be produced this is for the first period of the companies. We need to check if the last period is representative for every period. If this is not the case, it means we are losing information in the process and we need to think about an alternative process."
   ]
  },
  {
   "cell_type": "code",
   "execution_count": 175,
   "metadata": {
    "ExecuteTime": {
     "end_time": "2020-07-25T12:25:07.075052Z",
     "start_time": "2020-07-25T12:25:06.927010Z"
    }
   },
   "outputs": [],
   "source": [
    "data_one_period = data.drop_duplicates(subset=['Company'], keep='last')"
   ]
  },
  {
   "cell_type": "code",
   "execution_count": 176,
   "metadata": {
    "ExecuteTime": {
     "end_time": "2020-07-25T12:25:07.238473Z",
     "start_time": "2020-07-25T12:25:07.077954Z"
    }
   },
   "outputs": [
    {
     "data": {
      "text/html": [
       "<div>\n",
       "<style scoped>\n",
       "    .dataframe tbody tr th:only-of-type {\n",
       "        vertical-align: middle;\n",
       "    }\n",
       "\n",
       "    .dataframe tbody tr th {\n",
       "        vertical-align: top;\n",
       "    }\n",
       "\n",
       "    .dataframe thead th {\n",
       "        text-align: right;\n",
       "    }\n",
       "</style>\n",
       "<table border=\"1\" class=\"dataframe\">\n",
       "  <thead>\n",
       "    <tr style=\"text-align: right;\">\n",
       "      <th></th>\n",
       "      <th>Time</th>\n",
       "      <th>x1</th>\n",
       "      <th>x2</th>\n",
       "      <th>x3</th>\n",
       "      <th>x4</th>\n",
       "      <th>x5</th>\n",
       "      <th>x6</th>\n",
       "      <th>x7</th>\n",
       "      <th>x8</th>\n",
       "      <th>x9</th>\n",
       "      <th>...</th>\n",
       "      <th>x75</th>\n",
       "      <th>x76</th>\n",
       "      <th>x77</th>\n",
       "      <th>x78</th>\n",
       "      <th>x79</th>\n",
       "      <th>x80</th>\n",
       "      <th>x81</th>\n",
       "      <th>x82</th>\n",
       "      <th>x83</th>\n",
       "      <th>status</th>\n",
       "    </tr>\n",
       "  </thead>\n",
       "  <tbody>\n",
       "    <tr>\n",
       "      <th>3</th>\n",
       "      <td>4</td>\n",
       "      <td>1.1131</td>\n",
       "      <td>-0.015229</td>\n",
       "      <td>0.85888</td>\n",
       "      <td>0.80974</td>\n",
       "      <td>0.076037</td>\n",
       "      <td>0.091033</td>\n",
       "      <td>0.67546</td>\n",
       "      <td>-0.018807</td>\n",
       "      <td>-0.10791</td>\n",
       "      <td>...</td>\n",
       "      <td>39.80</td>\n",
       "      <td>38.377</td>\n",
       "      <td>17.167</td>\n",
       "      <td>16.0</td>\n",
       "      <td>5.6</td>\n",
       "      <td>22</td>\n",
       "      <td>-0.32539</td>\n",
       "      <td>33</td>\n",
       "      <td>52</td>\n",
       "      <td>0</td>\n",
       "    </tr>\n",
       "    <tr>\n",
       "      <th>17</th>\n",
       "      <td>14</td>\n",
       "      <td>2.2263</td>\n",
       "      <td>0.325880</td>\n",
       "      <td>0.40651</td>\n",
       "      <td>0.90804</td>\n",
       "      <td>0.455340</td>\n",
       "      <td>0.493550</td>\n",
       "      <td>1.65280</td>\n",
       "      <td>0.358880</td>\n",
       "      <td>0.54909</td>\n",
       "      <td>...</td>\n",
       "      <td>227.50</td>\n",
       "      <td>214.500</td>\n",
       "      <td>21.000</td>\n",
       "      <td>20.5</td>\n",
       "      <td>8.6</td>\n",
       "      <td>29</td>\n",
       "      <td>2.65980</td>\n",
       "      <td>20</td>\n",
       "      <td>40</td>\n",
       "      <td>2</td>\n",
       "    </tr>\n",
       "    <tr>\n",
       "      <th>18</th>\n",
       "      <td>1</td>\n",
       "      <td>0.8744</td>\n",
       "      <td>-0.034676</td>\n",
       "      <td>0.79350</td>\n",
       "      <td>0.60952</td>\n",
       "      <td>-0.002632</td>\n",
       "      <td>-0.086847</td>\n",
       "      <td>0.50609</td>\n",
       "      <td>-0.056892</td>\n",
       "      <td>-0.16793</td>\n",
       "      <td>...</td>\n",
       "      <td>27.07</td>\n",
       "      <td>26.102</td>\n",
       "      <td>16.000</td>\n",
       "      <td>16.0</td>\n",
       "      <td>0.2</td>\n",
       "      <td>25</td>\n",
       "      <td>-0.30317</td>\n",
       "      <td>8</td>\n",
       "      <td>37</td>\n",
       "      <td>0</td>\n",
       "    </tr>\n",
       "    <tr>\n",
       "      <th>32</th>\n",
       "      <td>14</td>\n",
       "      <td>3.1096</td>\n",
       "      <td>0.133630</td>\n",
       "      <td>0.21635</td>\n",
       "      <td>0.70654</td>\n",
       "      <td>0.173030</td>\n",
       "      <td>0.446080</td>\n",
       "      <td>1.25870</td>\n",
       "      <td>0.189140</td>\n",
       "      <td>0.17053</td>\n",
       "      <td>...</td>\n",
       "      <td>227.50</td>\n",
       "      <td>214.500</td>\n",
       "      <td>21.000</td>\n",
       "      <td>20.5</td>\n",
       "      <td>8.6</td>\n",
       "      <td>12</td>\n",
       "      <td>1.09640</td>\n",
       "      <td>41</td>\n",
       "      <td>57</td>\n",
       "      <td>2</td>\n",
       "    </tr>\n",
       "    <tr>\n",
       "      <th>46</th>\n",
       "      <td>14</td>\n",
       "      <td>1.2121</td>\n",
       "      <td>0.084192</td>\n",
       "      <td>0.70161</td>\n",
       "      <td>0.33803</td>\n",
       "      <td>0.130500</td>\n",
       "      <td>0.144520</td>\n",
       "      <td>0.93530</td>\n",
       "      <td>0.249060</td>\n",
       "      <td>0.28215</td>\n",
       "      <td>...</td>\n",
       "      <td>227.50</td>\n",
       "      <td>214.500</td>\n",
       "      <td>21.000</td>\n",
       "      <td>20.5</td>\n",
       "      <td>8.6</td>\n",
       "      <td>23</td>\n",
       "      <td>1.53660</td>\n",
       "      <td>25</td>\n",
       "      <td>50</td>\n",
       "      <td>2</td>\n",
       "    </tr>\n",
       "  </tbody>\n",
       "</table>\n",
       "<p>5 rows × 85 columns</p>\n",
       "</div>"
      ],
      "text/plain": [
       "    Time      x1        x2       x3       x4        x5        x6       x7  \\\n",
       "3      4  1.1131 -0.015229  0.85888  0.80974  0.076037  0.091033  0.67546   \n",
       "17    14  2.2263  0.325880  0.40651  0.90804  0.455340  0.493550  1.65280   \n",
       "18     1  0.8744 -0.034676  0.79350  0.60952 -0.002632 -0.086847  0.50609   \n",
       "32    14  3.1096  0.133630  0.21635  0.70654  0.173030  0.446080  1.25870   \n",
       "46    14  1.2121  0.084192  0.70161  0.33803  0.130500  0.144520  0.93530   \n",
       "\n",
       "          x8       x9  ...     x75      x76     x77   x78  x79  x80      x81  \\\n",
       "3  -0.018807 -0.10791  ...   39.80   38.377  17.167  16.0  5.6   22 -0.32539   \n",
       "17  0.358880  0.54909  ...  227.50  214.500  21.000  20.5  8.6   29  2.65980   \n",
       "18 -0.056892 -0.16793  ...   27.07   26.102  16.000  16.0  0.2   25 -0.30317   \n",
       "32  0.189140  0.17053  ...  227.50  214.500  21.000  20.5  8.6   12  1.09640   \n",
       "46  0.249060  0.28215  ...  227.50  214.500  21.000  20.5  8.6   23  1.53660   \n",
       "\n",
       "    x82  x83  status  \n",
       "3    33   52       0  \n",
       "17   20   40       2  \n",
       "18    8   37       0  \n",
       "32   41   57       2  \n",
       "46   25   50       2  \n",
       "\n",
       "[5 rows x 85 columns]"
      ]
     },
     "execution_count": 176,
     "metadata": {},
     "output_type": "execute_result"
    }
   ],
   "source": [
    "data_one_period_test = data.drop_duplicates(subset=['Company'], keep='first')\n",
    "data_final_test = data_one_period.drop(['Financial Distress', 'Company'], axis=1)\n",
    "data_final_test.head()"
   ]
  },
  {
   "cell_type": "code",
   "execution_count": 177,
   "metadata": {
    "ExecuteTime": {
     "end_time": "2020-07-25T12:25:07.299147Z",
     "start_time": "2020-07-25T12:25:07.241384Z"
    }
   },
   "outputs": [
    {
     "data": {
      "text/plain": [
       "(422, 87)"
      ]
     },
     "execution_count": 177,
     "metadata": {},
     "output_type": "execute_result"
    }
   ],
   "source": [
    "data_one_period.shape"
   ]
  },
  {
   "cell_type": "markdown",
   "metadata": {},
   "source": [
    "In the selected for modeling part of the dataset (data_one_period) we have 422 rows and 87 columns. Here we have the following distribution of the financial distress which we have converted into the status column. Unlike the original split proposed by Kaggles team this is far more balanced."
   ]
  },
  {
   "cell_type": "code",
   "execution_count": 178,
   "metadata": {
    "ExecuteTime": {
     "end_time": "2020-07-25T12:25:07.411435Z",
     "start_time": "2020-07-25T12:25:07.305203Z"
    }
   },
   "outputs": [
    {
     "data": {
      "text/plain": [
       "0    231\n",
       "1    102\n",
       "2     89\n",
       "Name: status, dtype: int64"
      ]
     },
     "execution_count": 178,
     "metadata": {},
     "output_type": "execute_result"
    }
   ],
   "source": [
    "data_one_period['status'].value_counts()"
   ]
  },
  {
   "cell_type": "code",
   "execution_count": 179,
   "metadata": {
    "ExecuteTime": {
     "end_time": "2020-07-25T12:25:07.592861Z",
     "start_time": "2020-07-25T12:25:07.417533Z"
    }
   },
   "outputs": [
    {
     "data": {
      "text/html": [
       "<div>\n",
       "<style scoped>\n",
       "    .dataframe tbody tr th:only-of-type {\n",
       "        vertical-align: middle;\n",
       "    }\n",
       "\n",
       "    .dataframe tbody tr th {\n",
       "        vertical-align: top;\n",
       "    }\n",
       "\n",
       "    .dataframe thead th {\n",
       "        text-align: right;\n",
       "    }\n",
       "</style>\n",
       "<table border=\"1\" class=\"dataframe\">\n",
       "  <thead>\n",
       "    <tr style=\"text-align: right;\">\n",
       "      <th></th>\n",
       "      <th>Company</th>\n",
       "      <th>Time</th>\n",
       "      <th>Financial Distress</th>\n",
       "      <th>x1</th>\n",
       "      <th>x2</th>\n",
       "      <th>x3</th>\n",
       "      <th>x4</th>\n",
       "      <th>x5</th>\n",
       "      <th>x6</th>\n",
       "      <th>x7</th>\n",
       "      <th>...</th>\n",
       "      <th>x75</th>\n",
       "      <th>x76</th>\n",
       "      <th>x77</th>\n",
       "      <th>x78</th>\n",
       "      <th>x79</th>\n",
       "      <th>x80</th>\n",
       "      <th>x81</th>\n",
       "      <th>x82</th>\n",
       "      <th>x83</th>\n",
       "      <th>status</th>\n",
       "    </tr>\n",
       "  </thead>\n",
       "  <tbody>\n",
       "    <tr>\n",
       "      <th>3</th>\n",
       "      <td>1</td>\n",
       "      <td>4</td>\n",
       "      <td>-0.56657</td>\n",
       "      <td>1.1131</td>\n",
       "      <td>-0.015229</td>\n",
       "      <td>0.85888</td>\n",
       "      <td>0.80974</td>\n",
       "      <td>0.076037</td>\n",
       "      <td>0.091033</td>\n",
       "      <td>0.67546</td>\n",
       "      <td>...</td>\n",
       "      <td>39.80</td>\n",
       "      <td>38.377</td>\n",
       "      <td>17.167</td>\n",
       "      <td>16.0</td>\n",
       "      <td>5.6</td>\n",
       "      <td>22</td>\n",
       "      <td>-0.32539</td>\n",
       "      <td>33</td>\n",
       "      <td>52</td>\n",
       "      <td>0</td>\n",
       "    </tr>\n",
       "    <tr>\n",
       "      <th>17</th>\n",
       "      <td>2</td>\n",
       "      <td>14</td>\n",
       "      <td>2.23200</td>\n",
       "      <td>2.2263</td>\n",
       "      <td>0.325880</td>\n",
       "      <td>0.40651</td>\n",
       "      <td>0.90804</td>\n",
       "      <td>0.455340</td>\n",
       "      <td>0.493550</td>\n",
       "      <td>1.65280</td>\n",
       "      <td>...</td>\n",
       "      <td>227.50</td>\n",
       "      <td>214.500</td>\n",
       "      <td>21.000</td>\n",
       "      <td>20.5</td>\n",
       "      <td>8.6</td>\n",
       "      <td>29</td>\n",
       "      <td>2.65980</td>\n",
       "      <td>20</td>\n",
       "      <td>40</td>\n",
       "      <td>2</td>\n",
       "    </tr>\n",
       "    <tr>\n",
       "      <th>18</th>\n",
       "      <td>3</td>\n",
       "      <td>1</td>\n",
       "      <td>-1.65990</td>\n",
       "      <td>0.8744</td>\n",
       "      <td>-0.034676</td>\n",
       "      <td>0.79350</td>\n",
       "      <td>0.60952</td>\n",
       "      <td>-0.002632</td>\n",
       "      <td>-0.086847</td>\n",
       "      <td>0.50609</td>\n",
       "      <td>...</td>\n",
       "      <td>27.07</td>\n",
       "      <td>26.102</td>\n",
       "      <td>16.000</td>\n",
       "      <td>16.0</td>\n",
       "      <td>0.2</td>\n",
       "      <td>25</td>\n",
       "      <td>-0.30317</td>\n",
       "      <td>8</td>\n",
       "      <td>37</td>\n",
       "      <td>0</td>\n",
       "    </tr>\n",
       "    <tr>\n",
       "      <th>32</th>\n",
       "      <td>4</td>\n",
       "      <td>14</td>\n",
       "      <td>1.27700</td>\n",
       "      <td>3.1096</td>\n",
       "      <td>0.133630</td>\n",
       "      <td>0.21635</td>\n",
       "      <td>0.70654</td>\n",
       "      <td>0.173030</td>\n",
       "      <td>0.446080</td>\n",
       "      <td>1.25870</td>\n",
       "      <td>...</td>\n",
       "      <td>227.50</td>\n",
       "      <td>214.500</td>\n",
       "      <td>21.000</td>\n",
       "      <td>20.5</td>\n",
       "      <td>8.6</td>\n",
       "      <td>12</td>\n",
       "      <td>1.09640</td>\n",
       "      <td>41</td>\n",
       "      <td>57</td>\n",
       "      <td>2</td>\n",
       "    </tr>\n",
       "    <tr>\n",
       "      <th>46</th>\n",
       "      <td>5</td>\n",
       "      <td>14</td>\n",
       "      <td>1.63780</td>\n",
       "      <td>1.2121</td>\n",
       "      <td>0.084192</td>\n",
       "      <td>0.70161</td>\n",
       "      <td>0.33803</td>\n",
       "      <td>0.130500</td>\n",
       "      <td>0.144520</td>\n",
       "      <td>0.93530</td>\n",
       "      <td>...</td>\n",
       "      <td>227.50</td>\n",
       "      <td>214.500</td>\n",
       "      <td>21.000</td>\n",
       "      <td>20.5</td>\n",
       "      <td>8.6</td>\n",
       "      <td>23</td>\n",
       "      <td>1.53660</td>\n",
       "      <td>25</td>\n",
       "      <td>50</td>\n",
       "      <td>2</td>\n",
       "    </tr>\n",
       "  </tbody>\n",
       "</table>\n",
       "<p>5 rows × 87 columns</p>\n",
       "</div>"
      ],
      "text/plain": [
       "    Company  Time  Financial Distress      x1        x2       x3       x4  \\\n",
       "3         1     4            -0.56657  1.1131 -0.015229  0.85888  0.80974   \n",
       "17        2    14             2.23200  2.2263  0.325880  0.40651  0.90804   \n",
       "18        3     1            -1.65990  0.8744 -0.034676  0.79350  0.60952   \n",
       "32        4    14             1.27700  3.1096  0.133630  0.21635  0.70654   \n",
       "46        5    14             1.63780  1.2121  0.084192  0.70161  0.33803   \n",
       "\n",
       "          x5        x6       x7  ...     x75      x76     x77   x78  x79  x80  \\\n",
       "3   0.076037  0.091033  0.67546  ...   39.80   38.377  17.167  16.0  5.6   22   \n",
       "17  0.455340  0.493550  1.65280  ...  227.50  214.500  21.000  20.5  8.6   29   \n",
       "18 -0.002632 -0.086847  0.50609  ...   27.07   26.102  16.000  16.0  0.2   25   \n",
       "32  0.173030  0.446080  1.25870  ...  227.50  214.500  21.000  20.5  8.6   12   \n",
       "46  0.130500  0.144520  0.93530  ...  227.50  214.500  21.000  20.5  8.6   23   \n",
       "\n",
       "        x81  x82  x83  status  \n",
       "3  -0.32539   33   52       0  \n",
       "17  2.65980   20   40       2  \n",
       "18 -0.30317    8   37       0  \n",
       "32  1.09640   41   57       2  \n",
       "46  1.53660   25   50       2  \n",
       "\n",
       "[5 rows x 87 columns]"
      ]
     },
     "execution_count": 179,
     "metadata": {},
     "output_type": "execute_result"
    }
   ],
   "source": [
    "data_one_period.head()"
   ]
  },
  {
   "cell_type": "code",
   "execution_count": 180,
   "metadata": {
    "ExecuteTime": {
     "end_time": "2020-07-25T12:25:07.678247Z",
     "start_time": "2020-07-25T12:25:07.599981Z"
    }
   },
   "outputs": [],
   "source": [
    "data_final = data_one_period.drop(['Financial Distress', 'Company'], axis=1)"
   ]
  },
  {
   "cell_type": "markdown",
   "metadata": {},
   "source": [
    "The none useful column will be dropped. Here is a preview. Below that we have produced a heatmap of the correlation matrix. It is very large and it will not be very useful, so it is comment out."
   ]
  },
  {
   "cell_type": "code",
   "execution_count": 181,
   "metadata": {
    "ExecuteTime": {
     "end_time": "2020-07-25T12:25:07.877496Z",
     "start_time": "2020-07-25T12:25:07.683508Z"
    }
   },
   "outputs": [
    {
     "data": {
      "text/html": [
       "<div>\n",
       "<style scoped>\n",
       "    .dataframe tbody tr th:only-of-type {\n",
       "        vertical-align: middle;\n",
       "    }\n",
       "\n",
       "    .dataframe tbody tr th {\n",
       "        vertical-align: top;\n",
       "    }\n",
       "\n",
       "    .dataframe thead th {\n",
       "        text-align: right;\n",
       "    }\n",
       "</style>\n",
       "<table border=\"1\" class=\"dataframe\">\n",
       "  <thead>\n",
       "    <tr style=\"text-align: right;\">\n",
       "      <th></th>\n",
       "      <th>Time</th>\n",
       "      <th>x1</th>\n",
       "      <th>x2</th>\n",
       "      <th>x3</th>\n",
       "      <th>x4</th>\n",
       "      <th>x5</th>\n",
       "      <th>x6</th>\n",
       "      <th>x7</th>\n",
       "      <th>x8</th>\n",
       "      <th>x9</th>\n",
       "      <th>...</th>\n",
       "      <th>x75</th>\n",
       "      <th>x76</th>\n",
       "      <th>x77</th>\n",
       "      <th>x78</th>\n",
       "      <th>x79</th>\n",
       "      <th>x80</th>\n",
       "      <th>x81</th>\n",
       "      <th>x82</th>\n",
       "      <th>x83</th>\n",
       "      <th>status</th>\n",
       "    </tr>\n",
       "  </thead>\n",
       "  <tbody>\n",
       "    <tr>\n",
       "      <th>3</th>\n",
       "      <td>4</td>\n",
       "      <td>1.1131</td>\n",
       "      <td>-0.015229</td>\n",
       "      <td>0.85888</td>\n",
       "      <td>0.80974</td>\n",
       "      <td>0.076037</td>\n",
       "      <td>0.091033</td>\n",
       "      <td>0.67546</td>\n",
       "      <td>-0.018807</td>\n",
       "      <td>-0.10791</td>\n",
       "      <td>...</td>\n",
       "      <td>39.80</td>\n",
       "      <td>38.377</td>\n",
       "      <td>17.167</td>\n",
       "      <td>16.0</td>\n",
       "      <td>5.6</td>\n",
       "      <td>22</td>\n",
       "      <td>-0.32539</td>\n",
       "      <td>33</td>\n",
       "      <td>52</td>\n",
       "      <td>0</td>\n",
       "    </tr>\n",
       "    <tr>\n",
       "      <th>17</th>\n",
       "      <td>14</td>\n",
       "      <td>2.2263</td>\n",
       "      <td>0.325880</td>\n",
       "      <td>0.40651</td>\n",
       "      <td>0.90804</td>\n",
       "      <td>0.455340</td>\n",
       "      <td>0.493550</td>\n",
       "      <td>1.65280</td>\n",
       "      <td>0.358880</td>\n",
       "      <td>0.54909</td>\n",
       "      <td>...</td>\n",
       "      <td>227.50</td>\n",
       "      <td>214.500</td>\n",
       "      <td>21.000</td>\n",
       "      <td>20.5</td>\n",
       "      <td>8.6</td>\n",
       "      <td>29</td>\n",
       "      <td>2.65980</td>\n",
       "      <td>20</td>\n",
       "      <td>40</td>\n",
       "      <td>2</td>\n",
       "    </tr>\n",
       "    <tr>\n",
       "      <th>18</th>\n",
       "      <td>1</td>\n",
       "      <td>0.8744</td>\n",
       "      <td>-0.034676</td>\n",
       "      <td>0.79350</td>\n",
       "      <td>0.60952</td>\n",
       "      <td>-0.002632</td>\n",
       "      <td>-0.086847</td>\n",
       "      <td>0.50609</td>\n",
       "      <td>-0.056892</td>\n",
       "      <td>-0.16793</td>\n",
       "      <td>...</td>\n",
       "      <td>27.07</td>\n",
       "      <td>26.102</td>\n",
       "      <td>16.000</td>\n",
       "      <td>16.0</td>\n",
       "      <td>0.2</td>\n",
       "      <td>25</td>\n",
       "      <td>-0.30317</td>\n",
       "      <td>8</td>\n",
       "      <td>37</td>\n",
       "      <td>0</td>\n",
       "    </tr>\n",
       "    <tr>\n",
       "      <th>32</th>\n",
       "      <td>14</td>\n",
       "      <td>3.1096</td>\n",
       "      <td>0.133630</td>\n",
       "      <td>0.21635</td>\n",
       "      <td>0.70654</td>\n",
       "      <td>0.173030</td>\n",
       "      <td>0.446080</td>\n",
       "      <td>1.25870</td>\n",
       "      <td>0.189140</td>\n",
       "      <td>0.17053</td>\n",
       "      <td>...</td>\n",
       "      <td>227.50</td>\n",
       "      <td>214.500</td>\n",
       "      <td>21.000</td>\n",
       "      <td>20.5</td>\n",
       "      <td>8.6</td>\n",
       "      <td>12</td>\n",
       "      <td>1.09640</td>\n",
       "      <td>41</td>\n",
       "      <td>57</td>\n",
       "      <td>2</td>\n",
       "    </tr>\n",
       "    <tr>\n",
       "      <th>46</th>\n",
       "      <td>14</td>\n",
       "      <td>1.2121</td>\n",
       "      <td>0.084192</td>\n",
       "      <td>0.70161</td>\n",
       "      <td>0.33803</td>\n",
       "      <td>0.130500</td>\n",
       "      <td>0.144520</td>\n",
       "      <td>0.93530</td>\n",
       "      <td>0.249060</td>\n",
       "      <td>0.28215</td>\n",
       "      <td>...</td>\n",
       "      <td>227.50</td>\n",
       "      <td>214.500</td>\n",
       "      <td>21.000</td>\n",
       "      <td>20.5</td>\n",
       "      <td>8.6</td>\n",
       "      <td>23</td>\n",
       "      <td>1.53660</td>\n",
       "      <td>25</td>\n",
       "      <td>50</td>\n",
       "      <td>2</td>\n",
       "    </tr>\n",
       "  </tbody>\n",
       "</table>\n",
       "<p>5 rows × 85 columns</p>\n",
       "</div>"
      ],
      "text/plain": [
       "    Time      x1        x2       x3       x4        x5        x6       x7  \\\n",
       "3      4  1.1131 -0.015229  0.85888  0.80974  0.076037  0.091033  0.67546   \n",
       "17    14  2.2263  0.325880  0.40651  0.90804  0.455340  0.493550  1.65280   \n",
       "18     1  0.8744 -0.034676  0.79350  0.60952 -0.002632 -0.086847  0.50609   \n",
       "32    14  3.1096  0.133630  0.21635  0.70654  0.173030  0.446080  1.25870   \n",
       "46    14  1.2121  0.084192  0.70161  0.33803  0.130500  0.144520  0.93530   \n",
       "\n",
       "          x8       x9  ...     x75      x76     x77   x78  x79  x80      x81  \\\n",
       "3  -0.018807 -0.10791  ...   39.80   38.377  17.167  16.0  5.6   22 -0.32539   \n",
       "17  0.358880  0.54909  ...  227.50  214.500  21.000  20.5  8.6   29  2.65980   \n",
       "18 -0.056892 -0.16793  ...   27.07   26.102  16.000  16.0  0.2   25 -0.30317   \n",
       "32  0.189140  0.17053  ...  227.50  214.500  21.000  20.5  8.6   12  1.09640   \n",
       "46  0.249060  0.28215  ...  227.50  214.500  21.000  20.5  8.6   23  1.53660   \n",
       "\n",
       "    x82  x83  status  \n",
       "3    33   52       0  \n",
       "17   20   40       2  \n",
       "18    8   37       0  \n",
       "32   41   57       2  \n",
       "46   25   50       2  \n",
       "\n",
       "[5 rows x 85 columns]"
      ]
     },
     "execution_count": 181,
     "metadata": {},
     "output_type": "execute_result"
    }
   ],
   "source": [
    "data_final.head()"
   ]
  },
  {
   "cell_type": "code",
   "execution_count": 182,
   "metadata": {
    "ExecuteTime": {
     "end_time": "2020-07-25T12:25:07.941332Z",
     "start_time": "2020-07-25T12:25:07.888964Z"
    }
   },
   "outputs": [],
   "source": [
    "#plt.figure(figsize=(20,10))\n",
    "#plt.title('Correlation Matrix')\n",
    "#sns.heatmap(data_final.corr(), annot=True)\n",
    "#plt.show()"
   ]
  },
  {
   "cell_type": "markdown",
   "metadata": {},
   "source": [
    "Now we will use the correlation coefficients for variable selection. Here are the correlations of the predictors against the status column in absolute values sorted in ascending order. We choose to select the values with the correlation coefficient higher then 10%, but lower then 70%."
   ]
  },
  {
   "cell_type": "code",
   "execution_count": 183,
   "metadata": {
    "ExecuteTime": {
     "end_time": "2020-07-25T12:25:08.102206Z",
     "start_time": "2020-07-25T12:25:07.944930Z"
    }
   },
   "outputs": [
    {
     "data": {
      "text/plain": [
       "x28       0.002354\n",
       "x35       0.016076\n",
       "x39       0.020654\n",
       "x82       0.021716\n",
       "x20       0.039651\n",
       "            ...   \n",
       "x5        0.605355\n",
       "x81       0.609253\n",
       "x2        0.620442\n",
       "x10       0.739800\n",
       "status    1.000000\n",
       "Name: status, Length: 85, dtype: float64"
      ]
     },
     "execution_count": 183,
     "metadata": {},
     "output_type": "execute_result"
    }
   ],
   "source": [
    "abs(data_final.corr()['status']).sort_values(ascending=True)"
   ]
  },
  {
   "cell_type": "code",
   "execution_count": 184,
   "metadata": {
    "ExecuteTime": {
     "end_time": "2020-07-25T12:25:08.207192Z",
     "start_time": "2020-07-25T12:25:08.105282Z"
    }
   },
   "outputs": [],
   "source": [
    "variables = abs(data_final.corr()['status']).sort_values(ascending=True)"
   ]
  },
  {
   "cell_type": "code",
   "execution_count": 185,
   "metadata": {
    "ExecuteTime": {
     "end_time": "2020-07-25T12:25:08.336169Z",
     "start_time": "2020-07-25T12:25:08.210841Z"
    }
   },
   "outputs": [
    {
     "data": {
      "text/plain": [
       "67"
      ]
     },
     "execution_count": 185,
     "metadata": {},
     "output_type": "execute_result"
    }
   ],
   "source": [
    "v1 = variables[0.05 < variables.values]\n",
    "v2 = v1[v1.values < 0.7]\n",
    "len(v2.index)"
   ]
  },
  {
   "cell_type": "code",
   "execution_count": 186,
   "metadata": {
    "ExecuteTime": {
     "end_time": "2020-07-25T12:25:08.453815Z",
     "start_time": "2020-07-25T12:25:08.341660Z"
    }
   },
   "outputs": [
    {
     "data": {
      "text/plain": [
       "Index(['x57', 'x42', 'x17', 'x22', 'x34', 'x40', 'x43', 'x11', 'x15', 'x7',\n",
       "       'x58', 'x21', 'x1', 'x74', 'x44', 'x18', 'x12', 'x65', 'x56', 'x80',\n",
       "       'x4', 'x41', 'x66', 'x33', 'x45', 'x30', 'x72', 'x29', 'x73', 'x71',\n",
       "       'x54', 'x37', 'x24', 'x67', 'x55', 'x69', 'x6', 'x49', 'x14', 'x70',\n",
       "       'x3', 'x13', 'x60', 'x26', 'x51', 'x63', 'x61', 'x23', 'x50', 'x79',\n",
       "       'x46', 'x62', 'x64', 'Time', 'x77', 'x9', 'x78', 'x48', 'x36', 'x68',\n",
       "       'x76', 'x75', 'x53', 'x25', 'x5', 'x81', 'x2'],\n",
       "      dtype='object')"
      ]
     },
     "execution_count": 186,
     "metadata": {},
     "output_type": "execute_result"
    }
   ],
   "source": [
    "ind = v2.index\n",
    "v2.index"
   ]
  },
  {
   "cell_type": "code",
   "execution_count": 187,
   "metadata": {
    "ExecuteTime": {
     "end_time": "2020-07-25T12:25:08.580837Z",
     "start_time": "2020-07-25T12:25:08.456210Z"
    }
   },
   "outputs": [],
   "source": [
    "y = data_final['status']\n",
    "X = data_final[ind]"
   ]
  },
  {
   "cell_type": "code",
   "execution_count": 188,
   "metadata": {
    "ExecuteTime": {
     "end_time": "2020-07-25T12:25:08.715774Z",
     "start_time": "2020-07-25T12:25:08.600295Z"
    }
   },
   "outputs": [
    {
     "data": {
      "text/plain": [
       "(422, 67)"
      ]
     },
     "execution_count": 188,
     "metadata": {},
     "output_type": "execute_result"
    }
   ],
   "source": [
    "X.shape"
   ]
  },
  {
   "cell_type": "markdown",
   "metadata": {},
   "source": [
    "We need to check about multicolinearity between the predictors. The VIF (Variance Inflation Factor) will be used.\n",
    "A function has been written to help us with the variable selection. For the curious reader check more on the topic here https://en.wikipedia.org/wiki/Variance_inflation_factor."
   ]
  },
  {
   "cell_type": "code",
   "execution_count": 189,
   "metadata": {
    "ExecuteTime": {
     "end_time": "2020-07-25T12:25:08.834449Z",
     "start_time": "2020-07-25T12:25:08.721980Z"
    }
   },
   "outputs": [],
   "source": [
    "def calc_vif(X):\n",
    "    \n",
    "    vif = pd.DataFrame()\n",
    "    vif[\"variables\"] = X.columns\n",
    "    vif[\"VIF\"] = [variance_inflation_factor(X.values, i) for i in range(X.shape[1])]\n",
    "\n",
    "    return(vif)"
   ]
  },
  {
   "cell_type": "code",
   "execution_count": 190,
   "metadata": {
    "ExecuteTime": {
     "end_time": "2020-07-25T12:25:09.535279Z",
     "start_time": "2020-07-25T12:25:08.836525Z"
    }
   },
   "outputs": [
    {
     "data": {
      "text/plain": [
       "(67, 2)"
      ]
     },
     "execution_count": 190,
     "metadata": {},
     "output_type": "execute_result"
    }
   ],
   "source": [
    "vif_df = calc_vif(X)\n",
    "vif_df.shape"
   ]
  },
  {
   "cell_type": "code",
   "execution_count": 191,
   "metadata": {
    "ExecuteTime": {
     "end_time": "2020-07-25T12:25:09.542532Z",
     "start_time": "2020-07-25T12:25:09.537326Z"
    }
   },
   "outputs": [
    {
     "data": {
      "text/plain": [
       "(17, 2)"
      ]
     },
     "execution_count": 191,
     "metadata": {},
     "output_type": "execute_result"
    }
   ],
   "source": [
    "vif_df_without_corr = vif_df[vif_df['VIF'] < 10]\n",
    "vif_df_without_corr.shape"
   ]
  },
  {
   "cell_type": "markdown",
   "metadata": {},
   "source": [
    "We have chosen a cutoff rate of 10, it could be lower. Finally we get only 24 variables."
   ]
  },
  {
   "cell_type": "code",
   "execution_count": 192,
   "metadata": {
    "ExecuteTime": {
     "end_time": "2020-07-25T12:25:09.737164Z",
     "start_time": "2020-07-25T12:25:09.544066Z"
    }
   },
   "outputs": [
    {
     "data": {
      "text/plain": [
       "0     x57\n",
       "1     x42\n",
       "3     x22\n",
       "5     x40\n",
       "6     x43\n",
       "8     x15\n",
       "10    x58\n",
       "14    x44\n",
       "15    x18\n",
       "16    x12\n",
       "24    x45\n",
       "30    x54\n",
       "34    x55\n",
       "42    x60\n",
       "50    x46\n",
       "55     x9\n",
       "58    x36\n",
       "Name: variables, dtype: object"
      ]
     },
     "execution_count": 192,
     "metadata": {},
     "output_type": "execute_result"
    }
   ],
   "source": [
    "vif_df_without_corr['variables']"
   ]
  },
  {
   "cell_type": "code",
   "execution_count": 193,
   "metadata": {
    "ExecuteTime": {
     "end_time": "2020-07-25T12:25:09.869364Z",
     "start_time": "2020-07-25T12:25:09.742393Z"
    }
   },
   "outputs": [
    {
     "data": {
      "text/plain": [
       "(422, 17)"
      ]
     },
     "execution_count": 193,
     "metadata": {},
     "output_type": "execute_result"
    }
   ],
   "source": [
    "X = X[vif_df_without_corr['variables']]\n",
    "X.shape"
   ]
  },
  {
   "cell_type": "markdown",
   "metadata": {},
   "source": [
    "We produce a heatmap of the correlation matrix of the leftover values. We can see that there is no multicolinearity."
   ]
  },
  {
   "cell_type": "code",
   "execution_count": 194,
   "metadata": {
    "ExecuteTime": {
     "end_time": "2020-07-25T12:25:12.051980Z",
     "start_time": "2020-07-25T12:25:09.871738Z"
    }
   },
   "outputs": [
    {
     "data": {
      "image/png": "[encoded data removed]",
      "text/plain": [
       "<Figure size 1440x720 with 2 Axes>"
      ]
     },
     "metadata": {
      "needs_background": "light"
     },
     "output_type": "display_data"
    }
   ],
   "source": [
    "plt.figure(figsize=(20,10))\n",
    "plt.title('Correlation Matrix of the selected predictors')\n",
    "sns.heatmap(X.corr(), annot=True)\n",
    "plt.show()"
   ]
  },
  {
   "cell_type": "code",
   "execution_count": 195,
   "metadata": {
    "ExecuteTime": {
     "end_time": "2020-07-25T12:25:12.068369Z",
     "start_time": "2020-07-25T12:25:12.055151Z"
    }
   },
   "outputs": [],
   "source": [
    "X_train, X_test, y_train, y_test = train_test_split(\n",
    "     X, y, test_size=0.3, random_state=42)"
   ]
  },
  {
   "cell_type": "markdown",
   "metadata": {},
   "source": [
    "Finally we have produces a test train slit with 30 percent test size. The random state of 42 has been used for reproduceability."
   ]
  },
  {
   "cell_type": "markdown",
   "metadata": {},
   "source": [
    "## Modeling on the selected data\n",
    "Firstly we have tried scaling with the MinMaxScaler. This has not produced much improvement so, it has been dropped out. The predictors are not that different on the scales basis compared to each other."
   ]
  },
  {
   "cell_type": "code",
   "execution_count": 196,
   "metadata": {
    "ExecuteTime": {
     "end_time": "2020-07-25T12:25:12.271894Z",
     "start_time": "2020-07-25T12:25:12.071420Z"
    }
   },
   "outputs": [],
   "source": [
    "#scaler =  MinMaxScaler()\n",
    "#X_train = scaler.fit_transform(X_train)\n",
    "#X_test = scaler.transform(X_test)"
   ]
  },
  {
   "cell_type": "markdown",
   "metadata": {},
   "source": [
    "We have written a function evaluate the performance of the model using accuracy both on the training and test dataset, as well as the root mean squired error, and the classification report based on the confusion matrix, with the precision, recall, f1-score and support."
   ]
  },
  {
   "cell_type": "code",
   "execution_count": 197,
   "metadata": {
    "ExecuteTime": {
     "end_time": "2020-07-25T12:25:12.400846Z",
     "start_time": "2020-07-25T12:25:12.273656Z"
    }
   },
   "outputs": [],
   "source": [
    "def evaluate(model, train_features, train_labels, test_features, test_labels):\n",
    "    train_acc = model.score(train_features, train_labels)\n",
    "    predictions = model.predict(test_features)\n",
    "    rmse = np.sqrt(mean_squared_error(test_labels, predictions))\n",
    "    accuracy = accuracy_score(test_labels, predictions)\n",
    "    class_report = classification_report(test_labels, predictions)\n",
    "    print('Model Performance')\n",
    "    print('Training data performance {:0.2f}%'.format(train_acc))\n",
    "    print('Root Mean Squired Error: {:0.2f}'.format(rmse))\n",
    "    print('Test Accuracy: {:0.2f}%.'.format(accuracy))\n",
    "    print(class_report)"
   ]
  },
  {
   "cell_type": "markdown",
   "metadata": {},
   "source": [
    "The first model that we will use is the logistic regression. The results are not that impressive."
   ]
  },
  {
   "cell_type": "code",
   "execution_count": 198,
   "metadata": {
    "ExecuteTime": {
     "end_time": "2020-07-25T12:25:12.584709Z",
     "start_time": "2020-07-25T12:25:12.412970Z"
    }
   },
   "outputs": [
    {
     "name": "stdout",
     "output_type": "stream",
     "text": [
      "Model Performance\n",
      "Training data performance 0.53%\n",
      "Root Mean Squired Error: 0.99\n",
      "Test Accuracy: 0.45%.\n",
      "              precision    recall  f1-score   support\n",
      "\n",
      "           0       0.65      0.55      0.59        60\n",
      "           1       0.37      0.57      0.45        37\n",
      "           2       0.16      0.10      0.12        30\n",
      "\n",
      "    accuracy                           0.45       127\n",
      "   macro avg       0.39      0.41      0.39       127\n",
      "weighted avg       0.45      0.45      0.44       127\n",
      "\n"
     ]
    },
    {
     "name": "stderr",
     "output_type": "stream",
     "text": [
      "/home/stefan/anaconda3/lib/python3.7/site-packages/sklearn/linear_model/_logistic.py:939: ConvergenceWarning: lbfgs failed to converge (status=1):\n",
      "STOP: TOTAL NO. of ITERATIONS REACHED LIMIT.\n",
      "\n",
      "Increase the number of iterations (max_iter) or scale the data as shown in:\n",
      "    https://scikit-learn.org/stable/modules/preprocessing.html.\n",
      "Please also refer to the documentation for alternative solver options:\n",
      "    https://scikit-learn.org/stable/modules/linear_model.html#logistic-regression\n",
      "  extra_warning_msg=_LOGISTIC_SOLVER_CONVERGENCE_MSG)\n"
     ]
    }
   ],
   "source": [
    "clf_base = LogisticRegression(random_state=42).fit(X_train, y_train)\n",
    "evaluate(clf_base,  X_train, y_train, X_test, y_test)"
   ]
  },
  {
   "cell_type": "code",
   "execution_count": 199,
   "metadata": {
    "ExecuteTime": {
     "end_time": "2020-07-25T12:25:12.654989Z",
     "start_time": "2020-07-25T12:25:12.588880Z"
    }
   },
   "outputs": [
    {
     "data": {
      "text/plain": [
       "(422, 17)"
      ]
     },
     "execution_count": 199,
     "metadata": {},
     "output_type": "execute_result"
    }
   ],
   "source": [
    "X_test_holdout = data_one_period_test[vif_df_without_corr['variables']]\n",
    "X_test_holdout.shape"
   ]
  },
  {
   "cell_type": "markdown",
   "metadata": {},
   "source": [
    "Now we will test it on the hold out sample."
   ]
  },
  {
   "cell_type": "code",
   "execution_count": 200,
   "metadata": {
    "ExecuteTime": {
     "end_time": "2020-07-25T12:25:13.505206Z",
     "start_time": "2020-07-25T12:25:12.657853Z"
    }
   },
   "outputs": [
    {
     "data": {
      "image/png": "[encoded data removed]",
      "text/plain": [
       "<Figure size 1224x576 with 1 Axes>"
      ]
     },
     "metadata": {
      "needs_background": "light"
     },
     "output_type": "display_data"
    }
   ],
   "source": [
    "plt.figure(figsize=(17,8))\n",
    "sns.distplot(data_one_period_test[data_one_period_test['Financial Distress'] < 100]['Financial Distress'],kde=False, rug=True, color = 'blue')\n",
    "plt.title('Financial Distress Histogram testing holdout')\n",
    "plt.xlabel('Values')\n",
    "plt.ylabel('Frequency')\n",
    "plt.grid(True)\n",
    "plt.show()"
   ]
  },
  {
   "cell_type": "code",
   "execution_count": 201,
   "metadata": {
    "ExecuteTime": {
     "end_time": "2020-07-25T12:25:13.524695Z",
     "start_time": "2020-07-25T12:25:13.508253Z"
    }
   },
   "outputs": [
    {
     "name": "stdout",
     "output_type": "stream",
     "text": [
      "(422,)\n",
      "(422, 17)\n"
     ]
    },
    {
     "name": "stderr",
     "output_type": "stream",
     "text": [
      "/home/stefan/anaconda3/lib/python3.7/site-packages/ipykernel_launcher.py:2: SettingWithCopyWarning: \n",
      "A value is trying to be set on a copy of a slice from a DataFrame.\n",
      "Try using .loc[row_indexer,col_indexer] = value instead\n",
      "\n",
      "See the caveats in the documentation: https://pandas.pydata.org/pandas-docs/stable/user_guide/indexing.html#returning-a-view-versus-a-copy\n",
      "  \n"
     ]
    }
   ],
   "source": [
    "data_one_period_test['status'] = np.where(data_one_period_test['Financial Distress'] < 0.295,0,\n",
    "                                          np.where(data_one_period_test['Financial Distress'] < 1.021, 1,2))\n",
    "y_test_holdout = data_one_period_test['status']\n",
    "print(y_test_holdout.shape)\n",
    "print(X_test_holdout.shape)"
   ]
  },
  {
   "cell_type": "markdown",
   "metadata": {},
   "source": [
    "The results are not that different, even better in this case."
   ]
  },
  {
   "cell_type": "code",
   "execution_count": 202,
   "metadata": {
    "ExecuteTime": {
     "end_time": "2020-07-25T12:25:13.770923Z",
     "start_time": "2020-07-25T12:25:13.527455Z"
    }
   },
   "outputs": [
    {
     "name": "stdout",
     "output_type": "stream",
     "text": [
      "Model Performance\n",
      "Training data performance 0.53%\n",
      "Root Mean Squired Error: 0.95\n",
      "Test Accuracy: 0.49%.\n",
      "              precision    recall  f1-score   support\n",
      "\n",
      "           0       0.50      0.83      0.63       192\n",
      "           1       0.40      0.21      0.28       146\n",
      "           2       0.60      0.18      0.28        84\n",
      "\n",
      "    accuracy                           0.49       422\n",
      "   macro avg       0.50      0.41      0.39       422\n",
      "weighted avg       0.49      0.49      0.44       422\n",
      "\n"
     ]
    },
    {
     "name": "stderr",
     "output_type": "stream",
     "text": [
      "/home/stefan/anaconda3/lib/python3.7/site-packages/sklearn/linear_model/_logistic.py:939: ConvergenceWarning: lbfgs failed to converge (status=1):\n",
      "STOP: TOTAL NO. of ITERATIONS REACHED LIMIT.\n",
      "\n",
      "Increase the number of iterations (max_iter) or scale the data as shown in:\n",
      "    https://scikit-learn.org/stable/modules/preprocessing.html.\n",
      "Please also refer to the documentation for alternative solver options:\n",
      "    https://scikit-learn.org/stable/modules/linear_model.html#logistic-regression\n",
      "  extra_warning_msg=_LOGISTIC_SOLVER_CONVERGENCE_MSG)\n"
     ]
    }
   ],
   "source": [
    "clf_base = LogisticRegression(random_state=42).fit(X_train, y_train)\n",
    "evaluate(clf_base,  X_train, y_train, X_test_holdout, y_test_holdout)"
   ]
  },
  {
   "cell_type": "markdown",
   "metadata": {},
   "source": [
    "Now we will create a Random Forest Classifier. The training performance is significantly better meaning there is overfitting. The holdout data proves further this issue."
   ]
  },
  {
   "cell_type": "code",
   "execution_count": 203,
   "metadata": {
    "ExecuteTime": {
     "end_time": "2020-07-25T12:25:14.287922Z",
     "start_time": "2020-07-25T12:25:13.773127Z"
    }
   },
   "outputs": [
    {
     "name": "stdout",
     "output_type": "stream",
     "text": [
      "Model Performance\n",
      "Training data performance 1.00%\n",
      "Root Mean Squired Error: 0.75\n",
      "Test Accuracy: 0.65%.\n",
      "              precision    recall  f1-score   support\n",
      "\n",
      "           0       0.67      0.95      0.79        60\n",
      "           1       0.53      0.24      0.33        37\n",
      "           2       0.64      0.53      0.58        30\n",
      "\n",
      "    accuracy                           0.65       127\n",
      "   macro avg       0.61      0.58      0.57       127\n",
      "weighted avg       0.62      0.65      0.61       127\n",
      "\n"
     ]
    }
   ],
   "source": [
    "rf_base = RandomForestClassifier(random_state=42).fit(X_train, y_train)\n",
    "evaluate(rf_base,  X_train, y_train, X_test, y_test)"
   ]
  },
  {
   "cell_type": "code",
   "execution_count": 204,
   "metadata": {
    "ExecuteTime": {
     "end_time": "2020-07-25T12:25:14.389861Z",
     "start_time": "2020-07-25T12:25:14.291818Z"
    }
   },
   "outputs": [
    {
     "name": "stdout",
     "output_type": "stream",
     "text": [
      "Model Performance\n",
      "Training data performance 1.00%\n",
      "Root Mean Squired Error: 0.91\n",
      "Test Accuracy: 0.54%.\n",
      "              precision    recall  f1-score   support\n",
      "\n",
      "           0       0.53      0.93      0.67       192\n",
      "           1       0.59      0.11      0.18       146\n",
      "           2       0.62      0.42      0.50        84\n",
      "\n",
      "    accuracy                           0.54       422\n",
      "   macro avg       0.58      0.48      0.45       422\n",
      "weighted avg       0.57      0.54      0.47       422\n",
      "\n"
     ]
    }
   ],
   "source": [
    "evaluate(rf_base,  X_train, y_train, X_test_holdout, y_test_holdout)"
   ]
  },
  {
   "cell_type": "markdown",
   "metadata": {},
   "source": [
    "Now it is time for the AdaBoost classifier. We still have overfitting but to a lesser extent."
   ]
  },
  {
   "cell_type": "code",
   "execution_count": 205,
   "metadata": {
    "ExecuteTime": {
     "end_time": "2020-07-25T12:25:14.685131Z",
     "start_time": "2020-07-25T12:25:14.393420Z"
    }
   },
   "outputs": [
    {
     "name": "stdout",
     "output_type": "stream",
     "text": [
      "Model Performance\n",
      "Training data performance 0.84%\n",
      "Root Mean Squired Error: 0.62\n",
      "Test Accuracy: 0.71%.\n",
      "              precision    recall  f1-score   support\n",
      "\n",
      "           0       0.78      0.95      0.86        60\n",
      "           1       0.56      0.51      0.54        37\n",
      "           2       0.70      0.47      0.56        30\n",
      "\n",
      "    accuracy                           0.71       127\n",
      "   macro avg       0.68      0.64      0.65       127\n",
      "weighted avg       0.70      0.71      0.69       127\n",
      "\n"
     ]
    }
   ],
   "source": [
    "ab_base = AdaBoostClassifier(random_state=0).fit(X_train, y_train)\n",
    "evaluate(ab_base,  X_train, y_train, X_test, y_test)"
   ]
  },
  {
   "cell_type": "code",
   "execution_count": 206,
   "metadata": {
    "ExecuteTime": {
     "end_time": "2020-07-25T12:25:15.011150Z",
     "start_time": "2020-07-25T12:25:14.688521Z"
    }
   },
   "outputs": [
    {
     "name": "stdout",
     "output_type": "stream",
     "text": [
      "Model Performance\n",
      "Training data performance 0.84%\n",
      "Root Mean Squired Error: 0.84\n",
      "Test Accuracy: 0.47%.\n",
      "              precision    recall  f1-score   support\n",
      "\n",
      "           0       0.61      0.54      0.57       192\n",
      "           1       0.38      0.53      0.44       146\n",
      "           2       0.41      0.23      0.29        84\n",
      "\n",
      "    accuracy                           0.47       422\n",
      "   macro avg       0.47      0.43      0.43       422\n",
      "weighted avg       0.49      0.47      0.47       422\n",
      "\n"
     ]
    }
   ],
   "source": [
    "ab_base = AdaBoostClassifier(random_state=42).fit(X_train, y_train)\n",
    "evaluate(ab_base,  X_train, y_train, X_test_holdout, y_test_holdout)"
   ]
  },
  {
   "cell_type": "markdown",
   "metadata": {},
   "source": [
    "We introduce the Support Vector Classifier. There are several kernels to choose from. They don't produce very high accuracy, so they will not be considered further. It should be noted that the linear kernel is slower compared to the other kernels."
   ]
  },
  {
   "cell_type": "code",
   "execution_count": 207,
   "metadata": {
    "ExecuteTime": {
     "end_time": "2020-07-25T12:25:15.063970Z",
     "start_time": "2020-07-25T12:25:15.015052Z"
    }
   },
   "outputs": [
    {
     "name": "stdout",
     "output_type": "stream",
     "text": [
      "Model Performance\n",
      "Training data performance 0.59%\n",
      "Root Mean Squired Error: 1.11\n",
      "Test Accuracy: 0.47%.\n",
      "              precision    recall  f1-score   support\n",
      "\n",
      "           0       0.47      1.00      0.64        60\n",
      "           1       0.00      0.00      0.00        37\n",
      "           2       0.00      0.00      0.00        30\n",
      "\n",
      "    accuracy                           0.47       127\n",
      "   macro avg       0.16      0.33      0.21       127\n",
      "weighted avg       0.22      0.47      0.30       127\n",
      "\n"
     ]
    },
    {
     "name": "stderr",
     "output_type": "stream",
     "text": [
      "/home/stefan/anaconda3/lib/python3.7/site-packages/sklearn/metrics/_classification.py:1268: UndefinedMetricWarning: Precision and F-score are ill-defined and being set to 0.0 in labels with no predicted samples. Use `zero_division` parameter to control this behavior.\n",
      "  _warn_prf(average, modifier, msg_start, len(result))\n",
      "/home/stefan/anaconda3/lib/python3.7/site-packages/sklearn/metrics/_classification.py:1268: UndefinedMetricWarning: Precision and F-score are ill-defined and being set to 0.0 in labels with no predicted samples. Use `zero_division` parameter to control this behavior.\n",
      "  _warn_prf(average, modifier, msg_start, len(result))\n",
      "/home/stefan/anaconda3/lib/python3.7/site-packages/sklearn/metrics/_classification.py:1268: UndefinedMetricWarning: Precision and F-score are ill-defined and being set to 0.0 in labels with no predicted samples. Use `zero_division` parameter to control this behavior.\n",
      "  _warn_prf(average, modifier, msg_start, len(result))\n"
     ]
    }
   ],
   "source": [
    "sv_base_rbf = SVC(kernel='rbf').fit(X_train, y_train)\n",
    "evaluate(sv_base_rbf,  X_train, y_train, X_test, y_test)"
   ]
  },
  {
   "cell_type": "code",
   "execution_count": 208,
   "metadata": {
    "ExecuteTime": {
     "end_time": "2020-07-25T12:25:15.218494Z",
     "start_time": "2020-07-25T12:25:15.070915Z"
    }
   },
   "outputs": [
    {
     "name": "stdout",
     "output_type": "stream",
     "text": [
      "Model Performance\n",
      "Training data performance 0.59%\n",
      "Root Mean Squired Error: 1.07\n",
      "Test Accuracy: 0.49%.\n",
      "              precision    recall  f1-score   support\n",
      "\n",
      "           0       0.48      0.98      0.64        60\n",
      "           1       0.00      0.00      0.00        37\n",
      "           2       1.00      0.10      0.18        30\n",
      "\n",
      "    accuracy                           0.49       127\n",
      "   macro avg       0.49      0.36      0.28       127\n",
      "weighted avg       0.46      0.49      0.35       127\n",
      "\n"
     ]
    }
   ],
   "source": [
    "sv_base_sig = SVC(kernel='sigmoid').fit(X_train, y_train)\n",
    "evaluate(sv_base_sig,  X_train, y_train, X_test, y_test)"
   ]
  },
  {
   "cell_type": "code",
   "execution_count": 209,
   "metadata": {
    "ExecuteTime": {
     "end_time": "2020-07-25T12:25:15.308239Z",
     "start_time": "2020-07-25T12:25:15.221563Z"
    }
   },
   "outputs": [],
   "source": [
    "#sv_base_lin = SVC(kernel='linear').fit(X_train, y_train)\n",
    "#evaluate(sv_base_lin,  X_train, y_train, X_test, y_test)"
   ]
  },
  {
   "cell_type": "markdown",
   "metadata": {},
   "source": [
    "This is the extreme gradient booting classifier from another library different from sklearn. There is still the issue of overfitting."
   ]
  },
  {
   "cell_type": "code",
   "execution_count": 210,
   "metadata": {
    "ExecuteTime": {
     "end_time": "2020-07-25T12:25:15.639580Z",
     "start_time": "2020-07-25T12:25:15.315774Z"
    }
   },
   "outputs": [
    {
     "name": "stdout",
     "output_type": "stream",
     "text": [
      "Model Performance\n",
      "Training data performance 1.00%\n",
      "Root Mean Squired Error: 0.70\n",
      "Test Accuracy: 0.68%.\n",
      "              precision    recall  f1-score   support\n",
      "\n",
      "           0       0.72      0.93      0.81        60\n",
      "           1       0.57      0.35      0.43        37\n",
      "           2       0.65      0.57      0.61        30\n",
      "\n",
      "    accuracy                           0.68       127\n",
      "   macro avg       0.65      0.62      0.62       127\n",
      "weighted avg       0.66      0.68      0.65       127\n",
      "\n"
     ]
    }
   ],
   "source": [
    "xgb_model_base = xgb.XGBClassifier(objective=\"multi:softprob\", random_state=42).fit(X_train, y_train)\n",
    "evaluate(xgb_model_base, X_train, y_train, X_test, y_test)"
   ]
  },
  {
   "cell_type": "code",
   "execution_count": 211,
   "metadata": {
    "ExecuteTime": {
     "end_time": "2020-07-25T12:25:15.682947Z",
     "start_time": "2020-07-25T12:25:15.641989Z"
    }
   },
   "outputs": [
    {
     "name": "stdout",
     "output_type": "stream",
     "text": [
      "Model Performance\n",
      "Training data performance 1.00%\n",
      "Root Mean Squired Error: 0.88\n",
      "Test Accuracy: 0.55%.\n",
      "              precision    recall  f1-score   support\n",
      "\n",
      "           0       0.54      0.92      0.68       192\n",
      "           1       0.54      0.14      0.22       146\n",
      "           2       0.63      0.44      0.52        84\n",
      "\n",
      "    accuracy                           0.55       422\n",
      "   macro avg       0.57      0.50      0.47       422\n",
      "weighted avg       0.56      0.55      0.49       422\n",
      "\n"
     ]
    }
   ],
   "source": [
    "evaluate(xgb_model_base, X_train, y_train, X_test_holdout, y_test_holdout)"
   ]
  },
  {
   "cell_type": "markdown",
   "metadata": {},
   "source": [
    "The last model to consider is the Light Gradient Boosting classifier. There is still the issue of overfitting."
   ]
  },
  {
   "cell_type": "code",
   "execution_count": 212,
   "metadata": {
    "ExecuteTime": {
     "end_time": "2020-07-25T12:25:16.597507Z",
     "start_time": "2020-07-25T12:25:15.685200Z"
    }
   },
   "outputs": [
    {
     "name": "stdout",
     "output_type": "stream",
     "text": [
      "Model Performance\n",
      "Training data performance 1.00%\n",
      "Root Mean Squired Error: 0.66\n",
      "Test Accuracy: 0.68%.\n",
      "              precision    recall  f1-score   support\n",
      "\n",
      "           0       0.73      0.92      0.81        60\n",
      "           1       0.52      0.30      0.38        37\n",
      "           2       0.65      0.67      0.66        30\n",
      "\n",
      "    accuracy                           0.68       127\n",
      "   macro avg       0.63      0.63      0.62       127\n",
      "weighted avg       0.65      0.68      0.65       127\n",
      "\n"
     ]
    }
   ],
   "source": [
    "lgb_model = LGBMClassifier(random_state=42).fit(X_train, y_train)\n",
    "evaluate(lgb_model, X_train, y_train, X_test, y_test)"
   ]
  },
  {
   "cell_type": "code",
   "execution_count": 213,
   "metadata": {
    "ExecuteTime": {
     "end_time": "2020-07-25T12:25:16.678009Z",
     "start_time": "2020-07-25T12:25:16.604030Z"
    }
   },
   "outputs": [
    {
     "name": "stdout",
     "output_type": "stream",
     "text": [
      "Model Performance\n",
      "Training data performance 1.00%\n",
      "Root Mean Squired Error: 0.89\n",
      "Test Accuracy: 0.55%.\n",
      "              precision    recall  f1-score   support\n",
      "\n",
      "           0       0.54      0.91      0.67       192\n",
      "           1       0.53      0.14      0.23       146\n",
      "           2       0.60      0.42      0.49        84\n",
      "\n",
      "    accuracy                           0.55       422\n",
      "   macro avg       0.56      0.49      0.46       422\n",
      "weighted avg       0.55      0.55      0.48       422\n",
      "\n"
     ]
    }
   ],
   "source": [
    "evaluate(lgb_model, X_train, y_train, X_test_holdout, y_test_holdout)"
   ]
  },
  {
   "cell_type": "markdown",
   "metadata": {},
   "source": [
    "Considering the finding we can infer that there there is a significant difference between the first and the last time period. So we must take another approach. We will take the mean of all the values for every company in the dataset."
   ]
  },
  {
   "cell_type": "markdown",
   "metadata": {},
   "source": [
    "## Model building of average data"
   ]
  },
  {
   "cell_type": "code",
   "execution_count": 92,
   "metadata": {
    "ExecuteTime": {
     "end_time": "2020-07-25T12:12:09.354789Z",
     "start_time": "2020-07-25T12:12:09.318509Z"
    }
   },
   "outputs": [
    {
     "data": {
      "text/plain": [
       "(422, 86)"
      ]
     },
     "execution_count": 92,
     "metadata": {},
     "output_type": "execute_result"
    }
   ],
   "source": [
    "data_average = data.groupby(\"Company\", as_index=False).mean() \n",
    "data_average = data_average.drop(['Time'], axis=1)\n",
    "data_average.shape"
   ]
  },
  {
   "cell_type": "code",
   "execution_count": 93,
   "metadata": {
    "ExecuteTime": {
     "end_time": "2020-07-25T12:12:11.489309Z",
     "start_time": "2020-07-25T12:12:11.412259Z"
    }
   },
   "outputs": [
    {
     "data": {
      "text/html": [
       "<div>\n",
       "<style scoped>\n",
       "    .dataframe tbody tr th:only-of-type {\n",
       "        vertical-align: middle;\n",
       "    }\n",
       "\n",
       "    .dataframe tbody tr th {\n",
       "        vertical-align: top;\n",
       "    }\n",
       "\n",
       "    .dataframe thead th {\n",
       "        text-align: right;\n",
       "    }\n",
       "</style>\n",
       "<table border=\"1\" class=\"dataframe\">\n",
       "  <thead>\n",
       "    <tr style=\"text-align: right;\">\n",
       "      <th></th>\n",
       "      <th>Company</th>\n",
       "      <th>Financial Distress</th>\n",
       "      <th>x1</th>\n",
       "      <th>x2</th>\n",
       "      <th>x3</th>\n",
       "      <th>x4</th>\n",
       "      <th>x5</th>\n",
       "      <th>x6</th>\n",
       "      <th>x7</th>\n",
       "      <th>x8</th>\n",
       "      <th>...</th>\n",
       "      <th>x75</th>\n",
       "      <th>x76</th>\n",
       "      <th>x77</th>\n",
       "      <th>x78</th>\n",
       "      <th>x79</th>\n",
       "      <th>x80</th>\n",
       "      <th>x81</th>\n",
       "      <th>x82</th>\n",
       "      <th>x83</th>\n",
       "      <th>status</th>\n",
       "    </tr>\n",
       "  </thead>\n",
       "  <tbody>\n",
       "    <tr>\n",
       "      <th>0</th>\n",
       "      <td>1</td>\n",
       "      <td>-0.334323</td>\n",
       "      <td>1.179250</td>\n",
       "      <td>-0.011305</td>\n",
       "      <td>0.869128</td>\n",
       "      <td>0.940075</td>\n",
       "      <td>0.035843</td>\n",
       "      <td>0.126302</td>\n",
       "      <td>0.564090</td>\n",
       "      <td>-0.018738</td>\n",
       "      <td>...</td>\n",
       "      <td>33.5625</td>\n",
       "      <td>32.486500</td>\n",
       "      <td>16.791750</td>\n",
       "      <td>15.750000</td>\n",
       "      <td>1.500000</td>\n",
       "      <td>22.0</td>\n",
       "      <td>-0.177584</td>\n",
       "      <td>31.5</td>\n",
       "      <td>50.5</td>\n",
       "      <td>0.000000</td>\n",
       "    </tr>\n",
       "    <tr>\n",
       "      <th>1</th>\n",
       "      <td>2</td>\n",
       "      <td>1.966056</td>\n",
       "      <td>1.539892</td>\n",
       "      <td>0.204816</td>\n",
       "      <td>0.628511</td>\n",
       "      <td>0.931229</td>\n",
       "      <td>0.302304</td>\n",
       "      <td>0.251645</td>\n",
       "      <td>1.068073</td>\n",
       "      <td>0.218296</td>\n",
       "      <td>...</td>\n",
       "      <td>92.1600</td>\n",
       "      <td>89.237286</td>\n",
       "      <td>17.770857</td>\n",
       "      <td>15.142857</td>\n",
       "      <td>-2.721429</td>\n",
       "      <td>29.0</td>\n",
       "      <td>1.895985</td>\n",
       "      <td>13.5</td>\n",
       "      <td>33.5</td>\n",
       "      <td>1.857143</td>\n",
       "    </tr>\n",
       "    <tr>\n",
       "      <th>2</th>\n",
       "      <td>3</td>\n",
       "      <td>-1.659900</td>\n",
       "      <td>0.874400</td>\n",
       "      <td>-0.034676</td>\n",
       "      <td>0.793500</td>\n",
       "      <td>0.609520</td>\n",
       "      <td>-0.002632</td>\n",
       "      <td>-0.086847</td>\n",
       "      <td>0.506090</td>\n",
       "      <td>-0.056892</td>\n",
       "      <td>...</td>\n",
       "      <td>27.0700</td>\n",
       "      <td>26.102000</td>\n",
       "      <td>16.000000</td>\n",
       "      <td>16.000000</td>\n",
       "      <td>0.200000</td>\n",
       "      <td>25.0</td>\n",
       "      <td>-0.303170</td>\n",
       "      <td>8.0</td>\n",
       "      <td>37.0</td>\n",
       "      <td>0.000000</td>\n",
       "    </tr>\n",
       "    <tr>\n",
       "      <th>3</th>\n",
       "      <td>4</td>\n",
       "      <td>0.839656</td>\n",
       "      <td>1.553275</td>\n",
       "      <td>0.138410</td>\n",
       "      <td>0.462178</td>\n",
       "      <td>0.759583</td>\n",
       "      <td>0.185367</td>\n",
       "      <td>0.168315</td>\n",
       "      <td>0.472444</td>\n",
       "      <td>0.171318</td>\n",
       "      <td>...</td>\n",
       "      <td>92.1600</td>\n",
       "      <td>89.237286</td>\n",
       "      <td>17.770857</td>\n",
       "      <td>15.142857</td>\n",
       "      <td>-2.721429</td>\n",
       "      <td>12.0</td>\n",
       "      <td>0.748936</td>\n",
       "      <td>34.5</td>\n",
       "      <td>50.5</td>\n",
       "      <td>1.142857</td>\n",
       "    </tr>\n",
       "    <tr>\n",
       "      <th>4</th>\n",
       "      <td>5</td>\n",
       "      <td>1.969673</td>\n",
       "      <td>1.127500</td>\n",
       "      <td>0.107643</td>\n",
       "      <td>0.743549</td>\n",
       "      <td>0.449420</td>\n",
       "      <td>0.108686</td>\n",
       "      <td>0.089244</td>\n",
       "      <td>0.664047</td>\n",
       "      <td>0.249389</td>\n",
       "      <td>...</td>\n",
       "      <td>92.1600</td>\n",
       "      <td>89.237286</td>\n",
       "      <td>17.770857</td>\n",
       "      <td>15.142857</td>\n",
       "      <td>-2.721429</td>\n",
       "      <td>23.0</td>\n",
       "      <td>1.921633</td>\n",
       "      <td>18.5</td>\n",
       "      <td>43.5</td>\n",
       "      <td>1.357143</td>\n",
       "    </tr>\n",
       "  </tbody>\n",
       "</table>\n",
       "<p>5 rows × 86 columns</p>\n",
       "</div>"
      ],
      "text/plain": [
       "   Company  Financial Distress        x1        x2        x3        x4  \\\n",
       "0        1           -0.334323  1.179250 -0.011305  0.869128  0.940075   \n",
       "1        2            1.966056  1.539892  0.204816  0.628511  0.931229   \n",
       "2        3           -1.659900  0.874400 -0.034676  0.793500  0.609520   \n",
       "3        4            0.839656  1.553275  0.138410  0.462178  0.759583   \n",
       "4        5            1.969673  1.127500  0.107643  0.743549  0.449420   \n",
       "\n",
       "         x5        x6        x7        x8  ...      x75        x76        x77  \\\n",
       "0  0.035843  0.126302  0.564090 -0.018738  ...  33.5625  32.486500  16.791750   \n",
       "1  0.302304  0.251645  1.068073  0.218296  ...  92.1600  89.237286  17.770857   \n",
       "2 -0.002632 -0.086847  0.506090 -0.056892  ...  27.0700  26.102000  16.000000   \n",
       "3  0.185367  0.168315  0.472444  0.171318  ...  92.1600  89.237286  17.770857   \n",
       "4  0.108686  0.089244  0.664047  0.249389  ...  92.1600  89.237286  17.770857   \n",
       "\n",
       "         x78       x79   x80       x81   x82   x83    status  \n",
       "0  15.750000  1.500000  22.0 -0.177584  31.5  50.5  0.000000  \n",
       "1  15.142857 -2.721429  29.0  1.895985  13.5  33.5  1.857143  \n",
       "2  16.000000  0.200000  25.0 -0.303170   8.0  37.0  0.000000  \n",
       "3  15.142857 -2.721429  12.0  0.748936  34.5  50.5  1.142857  \n",
       "4  15.142857 -2.721429  23.0  1.921633  18.5  43.5  1.357143  \n",
       "\n",
       "[5 rows x 86 columns]"
      ]
     },
     "execution_count": 93,
     "metadata": {},
     "output_type": "execute_result"
    }
   ],
   "source": [
    "data_average.head()"
   ]
  },
  {
   "cell_type": "markdown",
   "metadata": {},
   "source": [
    "We need to change the Time column with the full time. So we will drop the average age column and merge the tables with the one below to get the needed total Time periods."
   ]
  },
  {
   "cell_type": "code",
   "execution_count": 90,
   "metadata": {
    "ExecuteTime": {
     "end_time": "2020-07-25T12:09:37.286031Z",
     "start_time": "2020-07-25T12:09:37.270551Z"
    }
   },
   "outputs": [
    {
     "data": {
      "text/html": [
       "<div>\n",
       "<style scoped>\n",
       "    .dataframe tbody tr th:only-of-type {\n",
       "        vertical-align: middle;\n",
       "    }\n",
       "\n",
       "    .dataframe tbody tr th {\n",
       "        vertical-align: top;\n",
       "    }\n",
       "\n",
       "    .dataframe thead th {\n",
       "        text-align: right;\n",
       "    }\n",
       "</style>\n",
       "<table border=\"1\" class=\"dataframe\">\n",
       "  <thead>\n",
       "    <tr style=\"text-align: right;\">\n",
       "      <th></th>\n",
       "      <th>Company</th>\n",
       "      <th>Time</th>\n",
       "    </tr>\n",
       "  </thead>\n",
       "  <tbody>\n",
       "    <tr>\n",
       "      <th>3</th>\n",
       "      <td>1</td>\n",
       "      <td>4</td>\n",
       "    </tr>\n",
       "    <tr>\n",
       "      <th>17</th>\n",
       "      <td>2</td>\n",
       "      <td>14</td>\n",
       "    </tr>\n",
       "    <tr>\n",
       "      <th>18</th>\n",
       "      <td>3</td>\n",
       "      <td>1</td>\n",
       "    </tr>\n",
       "    <tr>\n",
       "      <th>32</th>\n",
       "      <td>4</td>\n",
       "      <td>14</td>\n",
       "    </tr>\n",
       "    <tr>\n",
       "      <th>46</th>\n",
       "      <td>5</td>\n",
       "      <td>14</td>\n",
       "    </tr>\n",
       "  </tbody>\n",
       "</table>\n",
       "</div>"
      ],
      "text/plain": [
       "    Company  Time\n",
       "3         1     4\n",
       "17        2    14\n",
       "18        3     1\n",
       "32        4    14\n",
       "46        5    14"
      ]
     },
     "execution_count": 90,
     "metadata": {},
     "output_type": "execute_result"
    }
   ],
   "source": [
    "time_to_merge = pd.DataFrame(data_one_period[['Company','Time']])\n",
    "time_to_merge.head()"
   ]
  },
  {
   "cell_type": "code",
   "execution_count": 94,
   "metadata": {
    "ExecuteTime": {
     "end_time": "2020-07-25T12:12:20.515728Z",
     "start_time": "2020-07-25T12:12:20.436720Z"
    }
   },
   "outputs": [
    {
     "data": {
      "text/html": [
       "<div>\n",
       "<style scoped>\n",
       "    .dataframe tbody tr th:only-of-type {\n",
       "        vertical-align: middle;\n",
       "    }\n",
       "\n",
       "    .dataframe tbody tr th {\n",
       "        vertical-align: top;\n",
       "    }\n",
       "\n",
       "    .dataframe thead th {\n",
       "        text-align: right;\n",
       "    }\n",
       "</style>\n",
       "<table border=\"1\" class=\"dataframe\">\n",
       "  <thead>\n",
       "    <tr style=\"text-align: right;\">\n",
       "      <th></th>\n",
       "      <th>Company</th>\n",
       "      <th>Time</th>\n",
       "      <th>Financial Distress</th>\n",
       "      <th>x1</th>\n",
       "      <th>x2</th>\n",
       "      <th>x3</th>\n",
       "      <th>x4</th>\n",
       "      <th>x5</th>\n",
       "      <th>x6</th>\n",
       "      <th>x7</th>\n",
       "      <th>...</th>\n",
       "      <th>x75</th>\n",
       "      <th>x76</th>\n",
       "      <th>x77</th>\n",
       "      <th>x78</th>\n",
       "      <th>x79</th>\n",
       "      <th>x80</th>\n",
       "      <th>x81</th>\n",
       "      <th>x82</th>\n",
       "      <th>x83</th>\n",
       "      <th>status</th>\n",
       "    </tr>\n",
       "  </thead>\n",
       "  <tbody>\n",
       "    <tr>\n",
       "      <th>0</th>\n",
       "      <td>1</td>\n",
       "      <td>4</td>\n",
       "      <td>-0.334323</td>\n",
       "      <td>1.179250</td>\n",
       "      <td>-0.011305</td>\n",
       "      <td>0.869128</td>\n",
       "      <td>0.940075</td>\n",
       "      <td>0.035843</td>\n",
       "      <td>0.126302</td>\n",
       "      <td>0.564090</td>\n",
       "      <td>...</td>\n",
       "      <td>33.5625</td>\n",
       "      <td>32.486500</td>\n",
       "      <td>16.791750</td>\n",
       "      <td>15.750000</td>\n",
       "      <td>1.500000</td>\n",
       "      <td>22.0</td>\n",
       "      <td>-0.177584</td>\n",
       "      <td>31.5</td>\n",
       "      <td>50.5</td>\n",
       "      <td>0.000000</td>\n",
       "    </tr>\n",
       "    <tr>\n",
       "      <th>1</th>\n",
       "      <td>2</td>\n",
       "      <td>14</td>\n",
       "      <td>1.966056</td>\n",
       "      <td>1.539892</td>\n",
       "      <td>0.204816</td>\n",
       "      <td>0.628511</td>\n",
       "      <td>0.931229</td>\n",
       "      <td>0.302304</td>\n",
       "      <td>0.251645</td>\n",
       "      <td>1.068073</td>\n",
       "      <td>...</td>\n",
       "      <td>92.1600</td>\n",
       "      <td>89.237286</td>\n",
       "      <td>17.770857</td>\n",
       "      <td>15.142857</td>\n",
       "      <td>-2.721429</td>\n",
       "      <td>29.0</td>\n",
       "      <td>1.895985</td>\n",
       "      <td>13.5</td>\n",
       "      <td>33.5</td>\n",
       "      <td>1.857143</td>\n",
       "    </tr>\n",
       "    <tr>\n",
       "      <th>2</th>\n",
       "      <td>3</td>\n",
       "      <td>1</td>\n",
       "      <td>-1.659900</td>\n",
       "      <td>0.874400</td>\n",
       "      <td>-0.034676</td>\n",
       "      <td>0.793500</td>\n",
       "      <td>0.609520</td>\n",
       "      <td>-0.002632</td>\n",
       "      <td>-0.086847</td>\n",
       "      <td>0.506090</td>\n",
       "      <td>...</td>\n",
       "      <td>27.0700</td>\n",
       "      <td>26.102000</td>\n",
       "      <td>16.000000</td>\n",
       "      <td>16.000000</td>\n",
       "      <td>0.200000</td>\n",
       "      <td>25.0</td>\n",
       "      <td>-0.303170</td>\n",
       "      <td>8.0</td>\n",
       "      <td>37.0</td>\n",
       "      <td>0.000000</td>\n",
       "    </tr>\n",
       "    <tr>\n",
       "      <th>3</th>\n",
       "      <td>4</td>\n",
       "      <td>14</td>\n",
       "      <td>0.839656</td>\n",
       "      <td>1.553275</td>\n",
       "      <td>0.138410</td>\n",
       "      <td>0.462178</td>\n",
       "      <td>0.759583</td>\n",
       "      <td>0.185367</td>\n",
       "      <td>0.168315</td>\n",
       "      <td>0.472444</td>\n",
       "      <td>...</td>\n",
       "      <td>92.1600</td>\n",
       "      <td>89.237286</td>\n",
       "      <td>17.770857</td>\n",
       "      <td>15.142857</td>\n",
       "      <td>-2.721429</td>\n",
       "      <td>12.0</td>\n",
       "      <td>0.748936</td>\n",
       "      <td>34.5</td>\n",
       "      <td>50.5</td>\n",
       "      <td>1.142857</td>\n",
       "    </tr>\n",
       "    <tr>\n",
       "      <th>4</th>\n",
       "      <td>5</td>\n",
       "      <td>14</td>\n",
       "      <td>1.969673</td>\n",
       "      <td>1.127500</td>\n",
       "      <td>0.107643</td>\n",
       "      <td>0.743549</td>\n",
       "      <td>0.449420</td>\n",
       "      <td>0.108686</td>\n",
       "      <td>0.089244</td>\n",
       "      <td>0.664047</td>\n",
       "      <td>...</td>\n",
       "      <td>92.1600</td>\n",
       "      <td>89.237286</td>\n",
       "      <td>17.770857</td>\n",
       "      <td>15.142857</td>\n",
       "      <td>-2.721429</td>\n",
       "      <td>23.0</td>\n",
       "      <td>1.921633</td>\n",
       "      <td>18.5</td>\n",
       "      <td>43.5</td>\n",
       "      <td>1.357143</td>\n",
       "    </tr>\n",
       "  </tbody>\n",
       "</table>\n",
       "<p>5 rows × 87 columns</p>\n",
       "</div>"
      ],
      "text/plain": [
       "   Company  Time  Financial Distress        x1        x2        x3        x4  \\\n",
       "0        1     4           -0.334323  1.179250 -0.011305  0.869128  0.940075   \n",
       "1        2    14            1.966056  1.539892  0.204816  0.628511  0.931229   \n",
       "2        3     1           -1.659900  0.874400 -0.034676  0.793500  0.609520   \n",
       "3        4    14            0.839656  1.553275  0.138410  0.462178  0.759583   \n",
       "4        5    14            1.969673  1.127500  0.107643  0.743549  0.449420   \n",
       "\n",
       "         x5        x6        x7  ...      x75        x76        x77  \\\n",
       "0  0.035843  0.126302  0.564090  ...  33.5625  32.486500  16.791750   \n",
       "1  0.302304  0.251645  1.068073  ...  92.1600  89.237286  17.770857   \n",
       "2 -0.002632 -0.086847  0.506090  ...  27.0700  26.102000  16.000000   \n",
       "3  0.185367  0.168315  0.472444  ...  92.1600  89.237286  17.770857   \n",
       "4  0.108686  0.089244  0.664047  ...  92.1600  89.237286  17.770857   \n",
       "\n",
       "         x78       x79   x80       x81   x82   x83    status  \n",
       "0  15.750000  1.500000  22.0 -0.177584  31.5  50.5  0.000000  \n",
       "1  15.142857 -2.721429  29.0  1.895985  13.5  33.5  1.857143  \n",
       "2  16.000000  0.200000  25.0 -0.303170   8.0  37.0  0.000000  \n",
       "3  15.142857 -2.721429  12.0  0.748936  34.5  50.5  1.142857  \n",
       "4  15.142857 -2.721429  23.0  1.921633  18.5  43.5  1.357143  \n",
       "\n",
       "[5 rows x 87 columns]"
      ]
     },
     "execution_count": 94,
     "metadata": {},
     "output_type": "execute_result"
    }
   ],
   "source": [
    "data_average_with_time = pd.merge(time_to_merge,data_average, on='Company')\n",
    "data_average_with_time.head()"
   ]
  },
  {
   "cell_type": "code",
   "execution_count": 95,
   "metadata": {
    "ExecuteTime": {
     "end_time": "2020-07-25T12:14:08.458662Z",
     "start_time": "2020-07-25T12:14:07.447857Z"
    }
   },
   "outputs": [
    {
     "data": {
      "image/png": "[encoded data removed]",
      "text/plain": [
       "<Figure size 1224x576 with 1 Axes>"
      ]
     },
     "metadata": {
      "needs_background": "light"
     },
     "output_type": "display_data"
    }
   ],
   "source": [
    "plt.figure(figsize=(17,8))\n",
    "sns.distplot(data_average['Financial Distress'],kde=False, rug=True, color = 'blue')\n",
    "plt.title('Financial Distress of the data average Histogram')\n",
    "plt.xlabel('Values')\n",
    "plt.ylabel('Frequency')\n",
    "plt.grid(True)\n",
    "plt.show()"
   ]
  },
  {
   "cell_type": "code",
   "execution_count": 96,
   "metadata": {
    "ExecuteTime": {
     "end_time": "2020-07-25T12:15:17.259412Z",
     "start_time": "2020-07-25T12:15:16.651573Z"
    }
   },
   "outputs": [
    {
     "data": {
      "image/png": "[encoded data removed]",
      "text/plain": [
       "<Figure size 1224x576 with 1 Axes>"
      ]
     },
     "metadata": {
      "needs_background": "light"
     },
     "output_type": "display_data"
    }
   ],
   "source": [
    "plt.figure(figsize=(17,8))\n",
    "sns.distplot(data_average[data_average['Financial Distress'] < 10]['Financial Distress'],kde=False, rug=True, color = 'blue')\n",
    "plt.title('Financial Distress Histogram  of data average without outliers testing holdout')\n",
    "plt.xlabel('Values')\n",
    "plt.ylabel('Frequency')\n",
    "plt.grid(True)\n",
    "plt.show()"
   ]
  },
  {
   "cell_type": "code",
   "execution_count": 97,
   "metadata": {
    "ExecuteTime": {
     "end_time": "2020-07-25T12:16:32.919682Z",
     "start_time": "2020-07-25T12:16:32.887246Z"
    }
   },
   "outputs": [
    {
     "data": {
      "text/plain": [
       "(0.929, 32.813]                141\n",
       "(-5.6850000000000005, 0.25]    141\n",
       "(0.25, 0.929]                  140\n",
       "Name: Financial Distress, dtype: int64"
      ]
     },
     "execution_count": 97,
     "metadata": {},
     "output_type": "execute_result"
    }
   ],
   "source": [
    "pd.qcut(data_average['Financial Distress'], 3).value_counts()"
   ]
  },
  {
   "cell_type": "code",
   "execution_count": 98,
   "metadata": {
    "ExecuteTime": {
     "end_time": "2020-07-25T12:18:06.755839Z",
     "start_time": "2020-07-25T12:18:06.747016Z"
    }
   },
   "outputs": [],
   "source": [
    "data_average['status'] = np.where(data_average['Financial Distress'] < 0.25,0,np.where(data_average['Financial Distress'] < 0.929, 1,2))"
   ]
  },
  {
   "cell_type": "code",
   "execution_count": 99,
   "metadata": {
    "ExecuteTime": {
     "end_time": "2020-07-25T12:19:50.955181Z",
     "start_time": "2020-07-25T12:19:50.935203Z"
    }
   },
   "outputs": [],
   "source": [
    "data_average = data_average.drop(['Financial Distress'], axis=1)"
   ]
  },
  {
   "cell_type": "code",
   "execution_count": 100,
   "metadata": {
    "ExecuteTime": {
     "end_time": "2020-07-25T12:20:39.159207Z",
     "start_time": "2020-07-25T12:20:39.119525Z"
    }
   },
   "outputs": [
    {
     "data": {
      "text/plain": [
       "x83       0.011300\n",
       "x42       0.012796\n",
       "x47       0.013212\n",
       "x82       0.015567\n",
       "x35       0.015965\n",
       "            ...   \n",
       "x9        0.645239\n",
       "x2        0.654896\n",
       "x5        0.670634\n",
       "x10       0.735160\n",
       "status    1.000000\n",
       "Name: status, Length: 85, dtype: float64"
      ]
     },
     "execution_count": 100,
     "metadata": {},
     "output_type": "execute_result"
    }
   ],
   "source": [
    "abs(data_average.corr()['status']).sort_values(ascending=True)"
   ]
  },
  {
   "cell_type": "code",
   "execution_count": 215,
   "metadata": {
    "ExecuteTime": {
     "end_time": "2020-07-25T12:27:22.365806Z",
     "start_time": "2020-07-25T12:27:22.324071Z"
    }
   },
   "outputs": [],
   "source": [
    "variables = abs(data_average.corr()['status']).sort_values(ascending=True)"
   ]
  },
  {
   "cell_type": "code",
   "execution_count": 216,
   "metadata": {
    "ExecuteTime": {
     "end_time": "2020-07-25T12:27:24.073972Z",
     "start_time": "2020-07-25T12:27:24.056212Z"
    }
   },
   "outputs": [
    {
     "data": {
      "text/plain": [
       "71"
      ]
     },
     "execution_count": 216,
     "metadata": {},
     "output_type": "execute_result"
    }
   ],
   "source": [
    "v12 = variables[0.05 < variables.values]\n",
    "v22 = v12[v12.values < 0.7]\n",
    "len(v22.index)"
   ]
  },
  {
   "cell_type": "code",
   "execution_count": 218,
   "metadata": {
    "ExecuteTime": {
     "end_time": "2020-07-25T12:28:58.861761Z",
     "start_time": "2020-07-25T12:28:58.848845Z"
    }
   },
   "outputs": [
    {
     "data": {
      "text/plain": [
       "Index(['x8', 'x27', 'x19', 'x38', 'x32', 'x28', 'x80', 'x1', 'x39', 'x43',\n",
       "       'x57', 'x44', 'x59', 'x41', 'x31', 'x45', 'x58', 'x20', 'x16', 'x78',\n",
       "       'x52', 'x33', 'x7', 'x22', 'x30', 'x12', 'x18', 'x6', 'x56', 'x65',\n",
       "       'x4', 'x21', 'x29', 'x24', 'x54', 'x66', 'x37', 'x63', 'x79', 'x49',\n",
       "       'x72', 'x46', 'x14', 'x13', 'x3', 'x67', 'x26', 'x70', 'x48', 'x60',\n",
       "       'x81', 'x77', 'x51', 'x55', 'x68', 'x76', 'x75', 'x69', 'x25', 'x50',\n",
       "       'x23', 'x62', 'x71', 'x61', 'x64', 'x36', 'x73', 'x53', 'x9', 'x2',\n",
       "       'x5'],\n",
       "      dtype='object')"
      ]
     },
     "execution_count": 218,
     "metadata": {},
     "output_type": "execute_result"
    }
   ],
   "source": [
    "ind1 = v22.index\n",
    "v22.index"
   ]
  },
  {
   "cell_type": "code",
   "execution_count": 219,
   "metadata": {
    "ExecuteTime": {
     "end_time": "2020-07-25T12:29:00.795676Z",
     "start_time": "2020-07-25T12:29:00.783481Z"
    }
   },
   "outputs": [],
   "source": [
    "y1 = data_final['status']\n",
    "X1 = data_final[ind1]"
   ]
  },
  {
   "cell_type": "code",
   "execution_count": 220,
   "metadata": {
    "ExecuteTime": {
     "end_time": "2020-07-25T12:30:35.502125Z",
     "start_time": "2020-07-25T12:30:34.978047Z"
    }
   },
   "outputs": [
    {
     "data": {
      "text/plain": [
       "(71, 2)"
      ]
     },
     "execution_count": 220,
     "metadata": {},
     "output_type": "execute_result"
    }
   ],
   "source": [
    "vif_df1 = calc_vif(X1)\n",
    "vif_df1.shape"
   ]
  },
  {
   "cell_type": "markdown",
   "metadata": {},
   "source": [
    "We change the VIF threshold to 7 to remove the multicolinearity."
   ]
  },
  {
   "cell_type": "code",
   "execution_count": 227,
   "metadata": {
    "ExecuteTime": {
     "end_time": "2020-07-25T12:33:11.269572Z",
     "start_time": "2020-07-25T12:33:11.240372Z"
    }
   },
   "outputs": [
    {
     "data": {
      "text/plain": [
       "(13, 2)"
      ]
     },
     "execution_count": 227,
     "metadata": {},
     "output_type": "execute_result"
    }
   ],
   "source": [
    "vif_df_without_corr1 = vif_df1[vif_df1['VIF'] < 7]\n",
    "vif_df_without_corr1.shape"
   ]
  },
  {
   "cell_type": "code",
   "execution_count": 228,
   "metadata": {
    "ExecuteTime": {
     "end_time": "2020-07-25T12:33:12.832390Z",
     "start_time": "2020-07-25T12:33:12.823167Z"
    }
   },
   "outputs": [
    {
     "data": {
      "text/plain": [
       "(422, 13)"
      ]
     },
     "execution_count": 228,
     "metadata": {},
     "output_type": "execute_result"
    }
   ],
   "source": [
    "X1 = X1[vif_df_without_corr1['variables']]\n",
    "X1.shape"
   ]
  },
  {
   "cell_type": "code",
   "execution_count": 229,
   "metadata": {
    "ExecuteTime": {
     "end_time": "2020-07-25T12:33:15.580711Z",
     "start_time": "2020-07-25T12:33:14.318849Z"
    }
   },
   "outputs": [
    {
     "data": {
      "image/png": "[encoded data removed]",
      "text/plain": [
       "<Figure size 1440x720 with 2 Axes>"
      ]
     },
     "metadata": {
      "needs_background": "light"
     },
     "output_type": "display_data"
    }
   ],
   "source": [
    "plt.figure(figsize=(20,10))\n",
    "plt.title('Correlation Matrix of the selected predictors for data average')\n",
    "sns.heatmap(X1.corr(), annot=True)\n",
    "plt.show()"
   ]
  },
  {
   "cell_type": "code",
   "execution_count": 230,
   "metadata": {
    "ExecuteTime": {
     "end_time": "2020-07-25T12:34:51.391838Z",
     "start_time": "2020-07-25T12:34:51.378175Z"
    }
   },
   "outputs": [],
   "source": [
    "X_train1, X_test1, y_train1, y_test1 = train_test_split(\n",
    "     X1, y1, test_size=0.3, random_state=42)"
   ]
  },
  {
   "cell_type": "markdown",
   "metadata": {},
   "source": [
    "A pipeline has been created with the model and polynomial features, you can review the results below, it seems to worsen the results, so we will not explore it further."
   ]
  },
  {
   "cell_type": "code",
   "execution_count": 255,
   "metadata": {
    "ExecuteTime": {
     "end_time": "2020-07-25T13:07:19.812995Z",
     "start_time": "2020-07-25T13:07:19.805182Z"
    }
   },
   "outputs": [],
   "source": [
    "polynomial_features = PolynomialFeatures(degree=4,\n",
    "                                             include_bias=False)\n",
    "pipeline = Pipeline([(\"polynomial_features\", polynomial_features),\n",
    "                         (\"linear_regression\", LogisticRegression(random_state=42))])"
   ]
  },
  {
   "cell_type": "code",
   "execution_count": 247,
   "metadata": {
    "ExecuteTime": {
     "end_time": "2020-07-25T13:03:35.159943Z",
     "start_time": "2020-07-25T13:03:35.053965Z"
    }
   },
   "outputs": [
    {
     "name": "stdout",
     "output_type": "stream",
     "text": [
      "Model Performance\n",
      "Training data performance 0.59%\n",
      "Root Mean Squired Error: 1.09\n",
      "Test Accuracy: 0.50%.\n",
      "              precision    recall  f1-score   support\n",
      "\n",
      "           0       0.54      0.82      0.65        60\n",
      "           1       1.00      0.05      0.10        37\n",
      "           2       0.34      0.40      0.37        30\n",
      "\n",
      "    accuracy                           0.50       127\n",
      "   macro avg       0.63      0.42      0.38       127\n",
      "weighted avg       0.63      0.50      0.43       127\n",
      "\n"
     ]
    },
    {
     "name": "stderr",
     "output_type": "stream",
     "text": [
      "/home/stefan/anaconda3/lib/python3.7/site-packages/sklearn/linear_model/_logistic.py:939: ConvergenceWarning: lbfgs failed to converge (status=1):\n",
      "STOP: TOTAL NO. of ITERATIONS REACHED LIMIT.\n",
      "\n",
      "Increase the number of iterations (max_iter) or scale the data as shown in:\n",
      "    https://scikit-learn.org/stable/modules/preprocessing.html.\n",
      "Please also refer to the documentation for alternative solver options:\n",
      "    https://scikit-learn.org/stable/modules/linear_model.html#logistic-regression\n",
      "  extra_warning_msg=_LOGISTIC_SOLVER_CONVERGENCE_MSG)\n"
     ]
    }
   ],
   "source": [
    "clf_avg = LogisticRegression(random_state=42).fit(X_train1, y_train1)\n",
    "evaluate(clf_avg,  X_train1, y_train1, X_test1, y_test1)"
   ]
  },
  {
   "cell_type": "code",
   "execution_count": 256,
   "metadata": {
    "ExecuteTime": {
     "end_time": "2020-07-25T13:08:03.680049Z",
     "start_time": "2020-07-25T13:08:03.556487Z"
    }
   },
   "outputs": [
    {
     "name": "stdout",
     "output_type": "stream",
     "text": [
      "Model Performance\n",
      "Training data performance 0.58%\n",
      "Root Mean Squired Error: 1.11\n",
      "Test Accuracy: 0.47%.\n",
      "              precision    recall  f1-score   support\n",
      "\n",
      "           0       0.47      1.00      0.64        60\n",
      "           1       0.00      0.00      0.00        37\n",
      "           2       0.00      0.00      0.00        30\n",
      "\n",
      "    accuracy                           0.47       127\n",
      "   macro avg       0.16      0.33      0.21       127\n",
      "weighted avg       0.22      0.47      0.30       127\n",
      "\n"
     ]
    },
    {
     "name": "stderr",
     "output_type": "stream",
     "text": [
      "/home/stefan/anaconda3/lib/python3.7/site-packages/sklearn/linear_model/_logistic.py:939: ConvergenceWarning: lbfgs failed to converge (status=2):\n",
      "ABNORMAL_TERMINATION_IN_LNSRCH.\n",
      "\n",
      "Increase the number of iterations (max_iter) or scale the data as shown in:\n",
      "    https://scikit-learn.org/stable/modules/preprocessing.html.\n",
      "Please also refer to the documentation for alternative solver options:\n",
      "    https://scikit-learn.org/stable/modules/linear_model.html#logistic-regression\n",
      "  extra_warning_msg=_LOGISTIC_SOLVER_CONVERGENCE_MSG)\n",
      "/home/stefan/anaconda3/lib/python3.7/site-packages/sklearn/metrics/_classification.py:1268: UndefinedMetricWarning: Precision and F-score are ill-defined and being set to 0.0 in labels with no predicted samples. Use `zero_division` parameter to control this behavior.\n",
      "  _warn_prf(average, modifier, msg_start, len(result))\n",
      "/home/stefan/anaconda3/lib/python3.7/site-packages/sklearn/metrics/_classification.py:1268: UndefinedMetricWarning: Precision and F-score are ill-defined and being set to 0.0 in labels with no predicted samples. Use `zero_division` parameter to control this behavior.\n",
      "  _warn_prf(average, modifier, msg_start, len(result))\n",
      "/home/stefan/anaconda3/lib/python3.7/site-packages/sklearn/metrics/_classification.py:1268: UndefinedMetricWarning: Precision and F-score are ill-defined and being set to 0.0 in labels with no predicted samples. Use `zero_division` parameter to control this behavior.\n",
      "  _warn_prf(average, modifier, msg_start, len(result))\n"
     ]
    }
   ],
   "source": [
    "clf_avg_pipe = pipeline.fit(X_train1, y_train1)\n",
    "evaluate(clf_avg_pipe,  X_train1, y_train1, X_test1, y_test1)"
   ]
  },
  {
   "cell_type": "code",
   "execution_count": 257,
   "metadata": {
    "ExecuteTime": {
     "end_time": "2020-07-25T13:08:14.504896Z",
     "start_time": "2020-07-25T13:08:14.486956Z"
    }
   },
   "outputs": [],
   "source": [
    "pipeline_rf = Pipeline([(\"polynomial_features\", polynomial_features),\n",
    "                         (\"linear_regression\", RandomForestClassifier(random_state=42))])"
   ]
  },
  {
   "cell_type": "code",
   "execution_count": 245,
   "metadata": {
    "ExecuteTime": {
     "end_time": "2020-07-25T13:02:06.685572Z",
     "start_time": "2020-07-25T13:02:06.386620Z"
    }
   },
   "outputs": [
    {
     "name": "stdout",
     "output_type": "stream",
     "text": [
      "Model Performance\n",
      "Training data performance 1.00%\n",
      "Root Mean Squired Error: 0.78\n",
      "Test Accuracy: 0.65%.\n",
      "              precision    recall  f1-score   support\n",
      "\n",
      "           0       0.68      0.93      0.79        60\n",
      "           1       0.57      0.32      0.41        37\n",
      "           2       0.58      0.47      0.52        30\n",
      "\n",
      "    accuracy                           0.65       127\n",
      "   macro avg       0.61      0.57      0.57       127\n",
      "weighted avg       0.63      0.65      0.62       127\n",
      "\n"
     ]
    }
   ],
   "source": [
    "rf_avg = RandomForestClassifier(random_state=42).fit(X_train1, y_train1)\n",
    "evaluate(rf_avg,  X_train1, y_train1, X_test1, y_test1)"
   ]
  },
  {
   "cell_type": "code",
   "execution_count": 258,
   "metadata": {
    "ExecuteTime": {
     "end_time": "2020-07-25T13:08:17.619263Z",
     "start_time": "2020-07-25T13:08:16.959100Z"
    }
   },
   "outputs": [
    {
     "name": "stdout",
     "output_type": "stream",
     "text": [
      "Model Performance\n",
      "Training data performance 1.00%\n",
      "Root Mean Squired Error: 0.77\n",
      "Test Accuracy: 0.60%.\n",
      "              precision    recall  f1-score   support\n",
      "\n",
      "           0       0.73      0.88      0.80        60\n",
      "           1       0.38      0.27      0.32        37\n",
      "           2       0.46      0.43      0.45        30\n",
      "\n",
      "    accuracy                           0.60       127\n",
      "   macro avg       0.52      0.53      0.52       127\n",
      "weighted avg       0.56      0.60      0.57       127\n",
      "\n"
     ]
    }
   ],
   "source": [
    "rf_avg_pipe = pipeline_rf.fit(X_train1, y_train1)\n",
    "evaluate(rf_avg_pipe,  X_train1, y_train1, X_test1, y_test1)"
   ]
  },
  {
   "cell_type": "code",
   "execution_count": 233,
   "metadata": {
    "ExecuteTime": {
     "end_time": "2020-07-25T12:45:50.961108Z",
     "start_time": "2020-07-25T12:45:50.695387Z"
    }
   },
   "outputs": [
    {
     "name": "stdout",
     "output_type": "stream",
     "text": [
      "Model Performance\n",
      "Training data performance 0.85%\n",
      "Root Mean Squired Error: 0.76\n",
      "Test Accuracy: 0.61%.\n",
      "              precision    recall  f1-score   support\n",
      "\n",
      "           0       0.71      0.87      0.78        60\n",
      "           1       0.43      0.32      0.37        37\n",
      "           2       0.54      0.47      0.50        30\n",
      "\n",
      "    accuracy                           0.61       127\n",
      "   macro avg       0.56      0.55      0.55       127\n",
      "weighted avg       0.59      0.61      0.60       127\n",
      "\n"
     ]
    }
   ],
   "source": [
    "ab_avg = AdaBoostClassifier(random_state=42).fit(X_train1, y_train1)\n",
    "evaluate(ab_avg,  X_train1, y_train1, X_test1, y_test1)"
   ]
  },
  {
   "cell_type": "code",
   "execution_count": 235,
   "metadata": {
    "ExecuteTime": {
     "end_time": "2020-07-25T12:48:00.445027Z",
     "start_time": "2020-07-25T12:48:00.374645Z"
    }
   },
   "outputs": [
    {
     "name": "stdout",
     "output_type": "stream",
     "text": [
      "Model Performance\n",
      "Training data performance 0.58%\n",
      "Root Mean Squired Error: 1.11\n",
      "Test Accuracy: 0.47%.\n",
      "              precision    recall  f1-score   support\n",
      "\n",
      "           0       0.47      1.00      0.64        60\n",
      "           1       0.00      0.00      0.00        37\n",
      "           2       0.00      0.00      0.00        30\n",
      "\n",
      "    accuracy                           0.47       127\n",
      "   macro avg       0.16      0.33      0.21       127\n",
      "weighted avg       0.22      0.47      0.30       127\n",
      "\n"
     ]
    },
    {
     "name": "stderr",
     "output_type": "stream",
     "text": [
      "/home/stefan/anaconda3/lib/python3.7/site-packages/sklearn/metrics/_classification.py:1268: UndefinedMetricWarning: Precision and F-score are ill-defined and being set to 0.0 in labels with no predicted samples. Use `zero_division` parameter to control this behavior.\n",
      "  _warn_prf(average, modifier, msg_start, len(result))\n",
      "/home/stefan/anaconda3/lib/python3.7/site-packages/sklearn/metrics/_classification.py:1268: UndefinedMetricWarning: Precision and F-score are ill-defined and being set to 0.0 in labels with no predicted samples. Use `zero_division` parameter to control this behavior.\n",
      "  _warn_prf(average, modifier, msg_start, len(result))\n",
      "/home/stefan/anaconda3/lib/python3.7/site-packages/sklearn/metrics/_classification.py:1268: UndefinedMetricWarning: Precision and F-score are ill-defined and being set to 0.0 in labels with no predicted samples. Use `zero_division` parameter to control this behavior.\n",
      "  _warn_prf(average, modifier, msg_start, len(result))\n"
     ]
    }
   ],
   "source": [
    "sv_avg_rbf = SVC(kernel='rbf', random_state = 42).fit(X_train1, y_train1)\n",
    "evaluate(sv_avg_rbf,  X_train1, y_train1, X_test1, y_test1)"
   ]
  },
  {
   "cell_type": "code",
   "execution_count": 236,
   "metadata": {
    "ExecuteTime": {
     "end_time": "2020-07-25T12:48:22.510899Z",
     "start_time": "2020-07-25T12:48:22.344815Z"
    }
   },
   "outputs": [
    {
     "name": "stdout",
     "output_type": "stream",
     "text": [
      "Model Performance\n",
      "Training data performance 0.99%\n",
      "Root Mean Squired Error: 0.72\n",
      "Test Accuracy: 0.62%.\n",
      "              precision    recall  f1-score   support\n",
      "\n",
      "           0       0.73      0.88      0.80        60\n",
      "           1       0.41      0.30      0.34        37\n",
      "           2       0.56      0.50      0.53        30\n",
      "\n",
      "    accuracy                           0.62       127\n",
      "   macro avg       0.56      0.56      0.56       127\n",
      "weighted avg       0.59      0.62      0.60       127\n",
      "\n"
     ]
    }
   ],
   "source": [
    "xgb_model_avg = xgb.XGBClassifier(objective=\"multi:softprob\", random_state=42).fit(X_train1, y_train1)\n",
    "evaluate(xgb_model_avg, X_train1, y_train1, X_test1, y_test1)"
   ]
  },
  {
   "cell_type": "code",
   "execution_count": 237,
   "metadata": {
    "ExecuteTime": {
     "end_time": "2020-07-25T12:49:13.891140Z",
     "start_time": "2020-07-25T12:49:13.637579Z"
    }
   },
   "outputs": [
    {
     "name": "stdout",
     "output_type": "stream",
     "text": [
      "Model Performance\n",
      "Training data performance 1.00%\n",
      "Root Mean Squired Error: 0.76\n",
      "Test Accuracy: 0.64%.\n",
      "              precision    recall  f1-score   support\n",
      "\n",
      "           0       0.69      0.93      0.79        60\n",
      "           1       0.50      0.32      0.39        37\n",
      "           2       0.59      0.43      0.50        30\n",
      "\n",
      "    accuracy                           0.64       127\n",
      "   macro avg       0.59      0.56      0.56       127\n",
      "weighted avg       0.61      0.64      0.61       127\n",
      "\n"
     ]
    }
   ],
   "source": [
    "lgb_model_avg = LGBMClassifier(random_state=42).fit(X_train1, y_train1)\n",
    "evaluate(lgb_model_avg, X_train1, y_train1, X_test1, y_test1)"
   ]
  },
  {
   "cell_type": "code",
   "execution_count": 259,
   "metadata": {
    "ExecuteTime": {
     "end_time": "2020-07-25T13:08:34.032540Z",
     "start_time": "2020-07-25T13:08:34.026572Z"
    }
   },
   "outputs": [],
   "source": [
    "pipeline_lgb = Pipeline([(\"polynomial_features\", polynomial_features),\n",
    "                         (\"linear_regression\", LGBMClassifier(random_state=42))])"
   ]
  },
  {
   "cell_type": "code",
   "execution_count": 260,
   "metadata": {
    "ExecuteTime": {
     "end_time": "2020-07-25T13:08:48.794076Z",
     "start_time": "2020-07-25T13:08:35.468684Z"
    }
   },
   "outputs": [
    {
     "name": "stdout",
     "output_type": "stream",
     "text": [
      "Model Performance\n",
      "Training data performance 1.00%\n",
      "Root Mean Squired Error: 0.79\n",
      "Test Accuracy: 0.63%.\n",
      "              precision    recall  f1-score   support\n",
      "\n",
      "           0       0.70      0.87      0.78        60\n",
      "           1       0.52      0.30      0.38        37\n",
      "           2       0.53      0.57      0.55        30\n",
      "\n",
      "    accuracy                           0.63       127\n",
      "   macro avg       0.59      0.58      0.57       127\n",
      "weighted avg       0.61      0.63      0.61       127\n",
      "\n"
     ]
    }
   ],
   "source": [
    "lgb_model_avg_pipe = pipeline_lgb.fit(X_train1, y_train1)\n",
    "evaluate(lgb_model_avg_pipe, X_train1, y_train1, X_test1, y_test1)"
   ]
  },
  {
   "cell_type": "markdown",
   "metadata": {},
   "source": [
    "### Random Search with the best models\n",
    "Grid search has been tried, but it takes to much time, so we will try the less computationally intensive random search with Random forest and the Light Gradient Boosting Classifier."
   ]
  },
  {
   "cell_type": "code",
   "execution_count": 261,
   "metadata": {
    "ExecuteTime": {
     "end_time": "2020-07-25T13:28:39.529121Z",
     "start_time": "2020-07-25T13:28:39.524248Z"
    }
   },
   "outputs": [],
   "source": [
    "params = {'bootstrap': [True, False],\n",
    " 'max_depth': [10, 20, 30, 40, 50, 60, 70, 80, 90, 100, None],\n",
    " 'max_features': ['auto', 'sqrt'],\n",
    " 'min_samples_leaf': [1, 2, 4],\n",
    " 'min_samples_split': [2, 5, 10],\n",
    " 'n_estimators': [200, 400, 600, 800, 1000, 1200, 1400, 1600, 1800, 2000]}"
   ]
  },
  {
   "cell_type": "code",
   "execution_count": null,
   "metadata": {
    "ExecuteTime": {
     "start_time": "2020-07-25T13:32:06.830Z"
    }
   },
   "outputs": [],
   "source": [
    "rf_random_avg = RandomizedSearchCV(estimator = RandomForestClassifier(random_state=42),param_distributions = params,\n",
    "                                   n_iter = 100,cv = 3,random_state=42, n_jobs = -1)\n",
    "rf_avg_tuned = rf_random_avg.fit(X_train1, y_train1)"
   ]
  },
  {
   "cell_type": "code",
   "execution_count": 265,
   "metadata": {
    "ExecuteTime": {
     "end_time": "2020-07-25T13:31:11.353329Z",
     "start_time": "2020-07-25T13:31:11.333783Z"
    }
   },
   "outputs": [
    {
     "ename": "AttributeError",
     "evalue": "'RandomizedSearchCV' object has no attribute 'best_params_'",
     "output_type": "error",
     "traceback": [
      "\u001b[0;31m---------------------------------------------------------------------------\u001b[0m",
      "\u001b[0;31mAttributeError\u001b[0m                            Traceback (most recent call last)",
      "\u001b[0;32m<ipython-input-265-1cdf21c9af7b>\u001b[0m in \u001b[0;36m<module>\u001b[0;34m\u001b[0m\n\u001b[0;32m----> 1\u001b[0;31m \u001b[0mrf_random_avg\u001b[0m\u001b[0;34m.\u001b[0m\u001b[0mbest_params_\u001b[0m\u001b[0;34m\u001b[0m\u001b[0;34m\u001b[0m\u001b[0m\n\u001b[0m",
      "\u001b[0;31mAttributeError\u001b[0m: 'RandomizedSearchCV' object has no attribute 'best_params_'"
     ]
    }
   ],
   "source": [
    "rf_avg_tuned.best_params_"
   ]
  },
  {
   "cell_type": "code",
   "execution_count": null,
   "metadata": {},
   "outputs": [],
   "source": []
  },
  {
   "cell_type": "code",
   "execution_count": null,
   "metadata": {},
   "outputs": [],
   "source": [
    "fit_params={\"early_stopping_rounds\":30, \n",
    "            \"eval_metric\" : 'auc', \n",
    "            \"eval_set\" : [(X_test_,y_test_)],\n",
    "            'eval_names': ['valid'],\n",
    "            'verbose': 100}\n",
    "\n",
    "param_test ={'num_leaves': sp_randint(6, 50), \n",
    "             'min_child_samples': sp_randint(100, 500), \n",
    "             'min_child_weight': [1e-5, 1e-3, 1e-2, 1e-1, 1, 1e1, 1e2, 1e3, 1e4],\n",
    "             'subsample': sp_uniform(loc=0.2, scale=0.8), \n",
    "             'colsample_bytree': sp_uniform(loc=0.4, scale=0.6),\n",
    "             'reg_alpha': [0, 1e-1, 1, 2, 5, 7, 10, 50, 100],\n",
    "             'reg_lambda': [0, 1e-1, 1, 5, 10, 20, 50, 100],\n",
    "             'scale_pos_weight':[1,2,6,12]}\n",
    "\n",
    "\n",
    "n_HP_points_to_test = 100\n",
    "\n",
    "clf = lgb.LGBMClassifier(max_depth=-1, random_state=314, silent=False, metric='None', n_jobs=-1, n_estimators=5000)\n",
    "\n",
    "gs = RandomizedSearchCV(\n",
    "    estimator = clf,\n",
    "    param_distributions = param_test, \n",
    "    n_iter = n_HP_points_to_test,\n",
    "    scoring = 'balanced_accuracy',\n",
    "    cv = 3,\n",
    "    refit = False,\n",
    "    random_state = 314,\n",
    "    verbose = 10)\n",
    "\n",
    "gs.fit(X_train_, y_train_, **fit_params)\n",
    "print('Best score reached: {} with params: {} '.format(gs.best_score_, gs.best_params_))"
   ]
  },
  {
   "cell_type": "code",
   "execution_count": null,
   "metadata": {},
   "outputs": [],
   "source": []
  },
  {
   "cell_type": "code",
   "execution_count": 53,
   "metadata": {
    "ExecuteTime": {
     "end_time": "2020-07-25T09:11:09.549993Z",
     "start_time": "2020-07-25T09:11:09.539620Z"
    }
   },
   "outputs": [],
   "source": [
    "param_grid = {\"base_estimator__criterion\" : [\"gini\", \"entropy\"],\n",
    "              \"base_estimator__splitter\" :   [\"best\", \"random\"],\n",
    "              \"n_estimators\": [1, 2, 10, 50],\n",
    "              'learning_rate':[0.01, 0.05, 0.1, 0.5, 1]\n",
    "             }"
   ]
  },
  {
   "cell_type": "code",
   "execution_count": 54,
   "metadata": {
    "ExecuteTime": {
     "end_time": "2020-07-25T09:11:09.687789Z",
     "start_time": "2020-07-25T09:11:09.554124Z"
    }
   },
   "outputs": [],
   "source": [
    "grid_search_ab = GridSearchCV(ab_base, param_grid=param_grid, cv = 5)"
   ]
  },
  {
   "cell_type": "code",
   "execution_count": 55,
   "metadata": {
    "ExecuteTime": {
     "end_time": "2020-07-25T09:11:09.809310Z",
     "start_time": "2020-07-25T09:11:09.695345Z"
    }
   },
   "outputs": [
    {
     "data": {
      "text/plain": [
       "GridSearchCV(cv=5, error_score=nan,\n",
       "             estimator=AdaBoostClassifier(algorithm='SAMME.R',\n",
       "                                          base_estimator=None,\n",
       "                                          learning_rate=1.0, n_estimators=50,\n",
       "                                          random_state=42),\n",
       "             iid='deprecated', n_jobs=None,\n",
       "             param_grid={'base_estimator__criterion': ['gini', 'entropy'],\n",
       "                         'base_estimator__splitter': ['best', 'random'],\n",
       "                         'learning_rate': [0.01, 0.05, 0.1, 0.5, 1],\n",
       "                         'n_estimators': [1, 2, 10, 50]},\n",
       "             pre_dispatch='2*n_jobs', refit=True, return_train_score=False,\n",
       "             scoring=None, verbose=0)"
      ]
     },
     "execution_count": 55,
     "metadata": {},
     "output_type": "execute_result"
    }
   ],
   "source": [
    "grid_search_ab"
   ]
  },
  {
   "cell_type": "code",
   "execution_count": 56,
   "metadata": {
    "ExecuteTime": {
     "end_time": "2020-07-25T09:11:09.931924Z",
     "start_time": "2020-07-25T09:11:09.811924Z"
    }
   },
   "outputs": [],
   "source": []
  },
  {
   "cell_type": "code",
   "execution_count": 58,
   "metadata": {
    "ExecuteTime": {
     "end_time": "2020-07-25T09:11:10.242539Z",
     "start_time": "2020-07-25T09:11:10.133252Z"
    }
   },
   "outputs": [],
   "source": []
  },
  {
   "cell_type": "code",
   "execution_count": 59,
   "metadata": {
    "ExecuteTime": {
     "end_time": "2020-07-25T09:11:10.367857Z",
     "start_time": "2020-07-25T09:11:10.247164Z"
    }
   },
   "outputs": [],
   "source": []
  },
  {
   "cell_type": "code",
   "execution_count": 60,
   "metadata": {
    "ExecuteTime": {
     "end_time": "2020-07-25T09:11:10.544911Z",
     "start_time": "2020-07-25T09:11:10.373870Z"
    }
   },
   "outputs": [],
   "source": []
  },
  {
   "cell_type": "code",
   "execution_count": 61,
   "metadata": {
    "ExecuteTime": {
     "end_time": "2020-07-25T09:11:10.664965Z",
     "start_time": "2020-07-25T09:11:10.551523Z"
    }
   },
   "outputs": [],
   "source": []
  },
  {
   "cell_type": "code",
   "execution_count": null,
   "metadata": {},
   "outputs": [],
   "source": []
  }
 ],
 "metadata": {
  "kernelspec": {
   "display_name": "Python 3",
   "language": "python",
   "name": "python3"
  },
  "language_info": {
   "codemirror_mode": {
    "name": "ipython",
    "version": 3
   },
   "file_extension": ".py",
   "mimetype": "text/x-python",
   "name": "python",
   "nbconvert_exporter": "python",
   "pygments_lexer": "ipython3",
   "version": "3.7.3"
  },
  "toc": {
   "base_numbering": 1,
   "nav_menu": {},
   "number_sections": true,
   "sideBar": true,
   "skip_h1_title": false,
   "title_cell": "Table of Contents",
   "title_sidebar": "Contents",
   "toc_cell": false,
   "toc_position": {},
   "toc_section_display": true,
   "toc_window_display": false
  },
  "varInspector": {
   "cols": {
    "lenName": 16,
    "lenType": 16,
    "lenVar": 40
   },
   "kernels_config": {
    "python": {
     "delete_cmd_postfix": "",
     "delete_cmd_prefix": "del ",
     "library": "var_list.py",
     "varRefreshCmd": "print(var_dic_list())"
    },
    "r": {
     "delete_cmd_postfix": ") ",
     "delete_cmd_prefix": "rm(",
     "library": "var_list.r",
     "varRefreshCmd": "cat(var_dic_list()) "
    }
   },
   "types_to_exclude": [
    "module",
    "function",
    "builtin_function_or_method",
    "instance",
    "_Feature"
   ],
   "window_display": false
  }
 },
 "nbformat": 4,
 "nbformat_minor": 2
}
